{
 "cells": [
  {
   "cell_type": "markdown",
   "id": "0fc3e417",
   "metadata": {},
   "source": [
    "# The autoregressive model: AR(p) "
   ]
  },
  {
   "cell_type": "code",
   "execution_count": null,
   "id": "78773d33",
   "metadata": {},
   "outputs": [],
   "source": [
    "from statsmodels.tsa.statespace.sarimax import SARIMAX\n",
    "from statsmodels.tsa.arima_process import ArmaProcess\n",
    "from statsmodels.graphics.tsaplots import plot_acf, plot_pacf\n",
    "from statsmodels.tsa.stattools import adfuller\n",
    "import matplotlib.pyplot as plt\n",
    "import numpy as np\n",
    "import pandas as pd\n",
    "\n",
    "import warnings\n",
    "warnings.filterwarnings('ignore')\n",
    "\n",
    "%matplotlib inline"
   ]
  },
  {
   "cell_type": "code",
   "execution_count": null,
   "id": "f817ee3b",
   "metadata": {},
   "outputs": [],
   "source": [
    "plt.rcParams[\"figure.figsize\"] = (9,6)"
   ]
  },
  {
   "cell_type": "markdown",
   "id": "60db38af",
   "metadata": {},
   "source": [
    "## Simulate a AR(2) process "
   ]
  },
  {
   "cell_type": "code",
   "execution_count": null,
   "id": "773e9578",
   "metadata": {},
   "outputs": [],
   "source": []
  },
  {
   "cell_type": "code",
   "execution_count": null,
   "id": "7611bc9f",
   "metadata": {},
   "outputs": [],
   "source": [
    "plot_acf(AR2_process, lags=20);\n",
    "\n",
    "plt.ylim(-0.5, 1.5)\n",
    "plt.tight_layout()"
   ]
  },
  {
   "cell_type": "code",
   "execution_count": null,
   "id": "da46ff89",
   "metadata": {},
   "outputs": [],
   "source": [
    "plot_pacf(AR2_process, lags=20);\n",
    "\n",
    "plt.ylim(-0.5, 1.5)\n",
    "plt.tight_layout()"
   ]
  },
  {
   "cell_type": "markdown",
   "id": "87e345ed",
   "metadata": {},
   "source": [
    "## Forecasting with the AR(p) model "
   ]
  },
  {
   "cell_type": "code",
   "execution_count": null,
   "id": "9c19d9a2",
   "metadata": {},
   "outputs": [],
   "source": []
  },
  {
   "cell_type": "code",
   "execution_count": null,
   "id": "91133794",
   "metadata": {},
   "outputs": [],
   "source": [
    "fig, ax = plt.subplots()\n",
    "\n",
    "ax.plot(df['value'])\n",
    "ax.set_xlabel('Time steps')\n",
    "ax.set_ylabel('Value')\n",
    "\n",
    "plt.tight_layout()"
   ]
  },
  {
   "cell_type": "markdown",
   "id": "a3243c70",
   "metadata": {},
   "source": [
    "### Test for stationarity "
   ]
  },
  {
   "cell_type": "code",
   "execution_count": null,
   "id": "6e2e7d26",
   "metadata": {},
   "outputs": [],
   "source": []
  },
  {
   "cell_type": "markdown",
   "id": "ed807211",
   "metadata": {},
   "source": [
    "### Transform and test for stationarity again "
   ]
  },
  {
   "cell_type": "code",
   "execution_count": null,
   "id": "02209728",
   "metadata": {},
   "outputs": [],
   "source": [
    "# Difference the series and run the ADF test\n",
    "\n",
    "\n",
    "print(f'ADF Statistic: {ADF_result[0]}')\n",
    "print(f'p-value: {ADF_result[1]}')"
   ]
  },
  {
   "cell_type": "markdown",
   "id": "b494726c",
   "metadata": {},
   "source": [
    "### Plot ACF "
   ]
  },
  {
   "cell_type": "code",
   "execution_count": null,
   "id": "24b23f59",
   "metadata": {},
   "outputs": [],
   "source": [
    "plot_acf(value_diff, lags=20);\n",
    "\n",
    "plt.ylim(-0.5, 1.5)\n",
    "plt.tight_layout()"
   ]
  },
  {
   "cell_type": "markdown",
   "id": "69d5e1d0",
   "metadata": {},
   "source": [
    "### Plot PACF "
   ]
  },
  {
   "cell_type": "code",
   "execution_count": null,
   "id": "63580012",
   "metadata": {},
   "outputs": [],
   "source": [
    "plot_pacf(value_diff, lags=20);\n",
    "\n",
    "plt.ylim(-0.5, 1.5)\n",
    "plt.tight_layout()"
   ]
  },
  {
   "cell_type": "markdown",
   "id": "796b6883",
   "metadata": {},
   "source": [
    "### Train/test split "
   ]
  },
  {
   "cell_type": "code",
   "execution_count": null,
   "id": "94672a9c",
   "metadata": {},
   "outputs": [],
   "source": []
  },
  {
   "cell_type": "code",
   "execution_count": null,
   "id": "cdbf0bcb",
   "metadata": {},
   "outputs": [],
   "source": [
    "fig, (ax1, ax2) = plt.subplots(nrows=2, ncols=1, sharex=True)\n",
    "\n",
    "ax1.plot(df['value'])\n",
    "ax1.set_xlabel('Time steps')\n",
    "ax1.set_ylabel('Value')\n",
    "ax1.axvspan(901, 1000, color='#808080', alpha=0.2)\n",
    "\n",
    "ax2.plot(df_diff['value_diff'])\n",
    "ax2.set_xlabel('Time steps')\n",
    "ax2.set_ylabel('Value')\n",
    "ax2.axvspan(899, 998, color='#808080', alpha=0.2)\n",
    "\n",
    "plt.tight_layout()"
   ]
  },
  {
   "cell_type": "markdown",
   "id": "a0227959",
   "metadata": {},
   "source": [
    "### Forecast "
   ]
  },
  {
   "cell_type": "code",
   "execution_count": null,
   "id": "ac1546b9",
   "metadata": {},
   "outputs": [],
   "source": [
    "def rolling_predictions(df_diff: pd.DataFrame, last_train_value: np.array, train_len: int, horizon: int, window: int, method: str) -> list:\n",
    "    \n",
    "    TOTAL_LEN = train_len + horizon\n",
    "    \n",
    "    if method == 'mean':\n",
    "        pred_mean = []\n",
    "        \n",
    "        for i in range(train_len, TOTAL_LEN, window):\n",
    "            mean = np.mean(df_diff[:i].values)\n",
    "            pred_mean.extend(mean for _ in range(window))\n",
    "\n",
    "        pred_mean = np.concatenate((last_train_value, pred_mean))\n",
    "        pred_mean = pred_mean.cumsum()\n",
    "        \n",
    "        return pred_mean[:100]\n",
    "\n",
    "    elif method == 'last':\n",
    "        pred_last_value = []\n",
    "        \n",
    "        for i in range(train_len, TOTAL_LEN, window):\n",
    "            last_value = df_diff[:i].iloc[-1].values[0]\n",
    "            pred_last_value.extend(last_value for _ in range(window))\n",
    "            \n",
    "        pred_last_value = np.concatenate((last_train_value, pred_last_value))\n",
    "        pred_last_value = pred_last_value.cumsum()\n",
    "        \n",
    "        return pred_last_value[:100]\n",
    "    \n",
    "    if method == 'AR':\n",
    "        # Get the predictions from the AR model\n",
    "            \n",
    "        return pred_AR[:100]"
   ]
  },
  {
   "cell_type": "code",
   "execution_count": null,
   "id": "58959be4",
   "metadata": {},
   "outputs": [],
   "source": [
    "pred_df = df[-100:].copy()\n",
    "\n",
    "TRAIN_LEN = len(train)\n",
    "HORIZON = len(test)\n",
    "LAST_TRAIN_VALUE = df.iloc[899].values\n",
    "\n",
    "windows = [1, 2, 5, 10]\n",
    "\n",
    "for window in windows:\n",
    "    pred_mean = rolling_predictions(df_diff, LAST_TRAIN_VALUE, TRAIN_LEN, HORIZON, window, 'mean')\n",
    "    pred_last = rolling_predictions(df_diff, LAST_TRAIN_VALUE, TRAIN_LEN, HORIZON, window, 'last')\n",
    "    pred_AR = rolling_predictions(df_diff, LAST_TRAIN_VALUE, TRAIN_LEN, HORIZON, window, 'AR')\n",
    "\n",
    "    pred_df[f'pred_mean_{window}'] = pred_mean\n",
    "    pred_df[f'pred_last_{window}'] = pred_last\n",
    "    pred_df[f'pred_AR_{window}'] = pred_AR\n",
    "\n",
    "pred_df.head()"
   ]
  },
  {
   "cell_type": "code",
   "execution_count": null,
   "id": "292603c3",
   "metadata": {},
   "outputs": [],
   "source": [
    "fig, axes = plt.subplots(nrows=2, ncols=2, figsize=(12,9))\n",
    "\n",
    "for i, ax in enumerate(axes.flatten()):\n",
    "    \n",
    "    ax.plot(df['value'])\n",
    "    ax.plot(pred_df['value'], 'b-', label='actual')\n",
    "    ax.plot(pred_df[f'pred_mean_{windows[i]}'], 'g:', label='mean')\n",
    "    ax.plot(pred_df[f'pred_last_{windows[i]}'], 'r-.', label='last')\n",
    "    ax.plot(pred_df[f'pred_AR_{windows[i]}'], 'k--', label='AR(2)')\n",
    "    \n",
    "    ax.legend(loc=2)\n",
    "    ax.set_xlabel('Time steps')\n",
    "    ax.set_ylabel('Value')\n",
    "    ax.axvspan(901, 1000, color='#808080', alpha=0.2)\n",
    "    ax.set_xlim(730, 1000)\n",
    "    ax.set_title(f'Horizon = {windows[i]}')\n",
    "    \n",
    "plt.tight_layout()"
   ]
  },
  {
   "cell_type": "code",
   "execution_count": null,
   "id": "b1b6c151",
   "metadata": {},
   "outputs": [],
   "source": [
    "from sklearn.metrics import mean_absolute_error\n",
    "\n",
    "mae_mean_1 = mean_absolute_error(pred_df['value'], pred_df['pred_mean_1'])\n",
    "mae_last_1 = mean_absolute_error(pred_df['value'], pred_df['pred_last_1'])\n",
    "mae_AR_1 = mean_absolute_error(pred_df['value'], pred_df['pred_AR_1'])\n",
    "\n",
    "mae_mean_2 = mean_absolute_error(pred_df['value'], pred_df['pred_mean_2'])\n",
    "mae_last_2 = mean_absolute_error(pred_df['value'], pred_df['pred_last_2'])\n",
    "mae_AR_2 = mean_absolute_error(pred_df['value'], pred_df['pred_AR_2'])\n",
    "\n",
    "mae_mean_5 = mean_absolute_error(pred_df['value'], pred_df['pred_mean_5'])\n",
    "mae_last_5 = mean_absolute_error(pred_df['value'], pred_df['pred_last_5'])\n",
    "mae_AR_5 = mean_absolute_error(pred_df['value'], pred_df['pred_AR_5'])\n",
    "\n",
    "mae_mean_10 = mean_absolute_error(pred_df['value'], pred_df['pred_mean_10'])\n",
    "mae_last_10 = mean_absolute_error(pred_df['value'], pred_df['pred_last_10'])\n",
    "mae_AR_10 = mean_absolute_error(pred_df['value'], pred_df['pred_AR_10'])"
   ]
  },
  {
   "cell_type": "code",
   "execution_count": null,
   "id": "fc425c01",
   "metadata": {},
   "outputs": [],
   "source": [
    "maes_mean = [mae_mean_1, mae_mean_2, mae_mean_5, mae_mean_10]\n",
    "maes_last = [mae_last_1, mae_last_2, mae_last_5, mae_last_10]\n",
    "maes_AR = [mae_AR_1, mae_AR_2, mae_AR_5, mae_AR_10]\n",
    "\n",
    "fig, axes = plt.subplots(nrows=2, ncols=2, figsize=(12,9))\n",
    "\n",
    "x = ['mean', 'last', 'AR(2)']\n",
    "width = 0.3\n",
    "\n",
    "for i, ax in enumerate(axes.flatten()):\n",
    "    \n",
    "    y = [maes_mean[i], maes_last[i], maes_AR[i]]\n",
    "    ax.bar(x, y, width)\n",
    "    ax.set_xlabel('Methods')\n",
    "    ax.set_ylabel('MAE')\n",
    "    ax.set_ylim(0, 100)\n",
    "    ax.set_title(f'Horizon = {windows[i]}')    \n",
    "    \n",
    "    for index, value in enumerate(y):\n",
    "        ax.text(x=index, y=value+1, s=str(round(value, 2)), ha='center')\n",
    "\n",
    "plt.tight_layout()"
   ]
  },
  {
   "cell_type": "code",
   "execution_count": null,
   "id": "50b3e0f5",
   "metadata": {},
   "outputs": [],
   "source": []
  }
 ],
 "metadata": {
  "kernelspec": {
   "display_name": "Python 3",
   "language": "python",
   "name": "python3"
  },
  "language_info": {
   "codemirror_mode": {
    "name": "ipython",
    "version": 3
   },
   "file_extension": ".py",
   "mimetype": "text/x-python",
   "name": "python",
   "nbconvert_exporter": "python",
   "pygments_lexer": "ipython3",
   "version": "3.7.13"
  }
 },
 "nbformat": 4,
 "nbformat_minor": 5
}

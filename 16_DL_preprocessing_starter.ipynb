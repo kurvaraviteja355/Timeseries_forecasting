{
 "cells": [
  {
   "cell_type": "code",
   "execution_count": null,
   "id": "b6139ad5",
   "metadata": {},
   "outputs": [],
   "source": [
    "import numpy as np\n",
    "import pandas as pd\n",
    "import matplotlib.pyplot as plt\n",
    "\n",
    "import warnings\n",
    "warnings.filterwarnings('ignore')"
   ]
  },
  {
   "cell_type": "code",
   "execution_count": null,
   "id": "40a47141",
   "metadata": {},
   "outputs": [],
   "source": [
    "plt.rcParams[\"figure.figsize\"] = (9,6)"
   ]
  },
  {
   "cell_type": "code",
   "execution_count": null,
   "id": "0f09056c",
   "metadata": {},
   "outputs": [],
   "source": [
    "df = pd.read_csv('https://raw.githubusercontent.com/zhouhaoyi/ETDataset/main/ETT-small/ETTh1.csv')\n",
    "df.head()"
   ]
  },
  {
   "cell_type": "code",
   "execution_count": null,
   "id": "57476b50",
   "metadata": {},
   "outputs": [],
   "source": [
    "fig, ax = plt.subplots()\n",
    "\n",
    "ax.plot(df['OT'])\n",
    "ax.set_xlabel('Time')\n",
    "ax.set_ylabel('Oil temperature')\n",
    "\n",
    "fig.autofmt_xdate()\n",
    "plt.tight_layout()"
   ]
  },
  {
   "cell_type": "code",
   "execution_count": null,
   "id": "522a80b5",
   "metadata": {},
   "outputs": [],
   "source": [
    "fig, ax = plt.subplots()\n",
    "\n",
    "ax.plot(df['OT'])\n",
    "ax.set_xlabel('Time')\n",
    "ax.set_ylabel('Oil temperature')\n",
    "\n",
    "plt.xticks(\n",
    "    np.arange(0, 400, 24), \n",
    "    ['2016-07-01', '2016-07-02', '2016-07-03', '2016-07-04', '2016-07-05', '2016-07-08', '2016-07-09', '2016-07-10', '2016-07-11', '2016-07-12', '2016-07-13', '2016-07-14', '2016-07-15', '2016-07-16', '2016-07-17', '2016-07-18', '2016-07-19']\n",
    ")\n",
    "plt.xlim(0, 400)\n",
    "\n",
    "fig.autofmt_xdate()\n",
    "plt.tight_layout()"
   ]
  },
  {
   "cell_type": "code",
   "execution_count": null,
   "id": "0808ed38",
   "metadata": {},
   "outputs": [],
   "source": [
    "# Perform Fourier transform to identify seasonal periods\n"
   ]
  },
  {
   "cell_type": "code",
   "execution_count": null,
   "id": "69257932",
   "metadata": {},
   "outputs": [],
   "source": [
    "# Encode seasonal periods\n"
   ]
  },
  {
   "cell_type": "code",
   "execution_count": null,
   "id": "a7e008cf",
   "metadata": {},
   "outputs": [],
   "source": []
  },
  {
   "cell_type": "code",
   "execution_count": null,
   "id": "d1a3c19e",
   "metadata": {},
   "outputs": [],
   "source": [
    "df.sample(50).plot.scatter('day_sin','day_cos').set_aspect('equal');\n",
    "plt.tight_layout()"
   ]
  },
  {
   "cell_type": "code",
   "execution_count": null,
   "id": "c22aff54",
   "metadata": {},
   "outputs": [],
   "source": [
    "# Create train/validation/test sets\n",
    "\n"
   ]
  },
  {
   "cell_type": "code",
   "execution_count": null,
   "id": "040e1a7a",
   "metadata": {},
   "outputs": [],
   "source": [
    "# Get the min and max values of the targets (to be used in future lessons)\n",
    "\n",
    "MULL_max_train = np.max(train_df['MULL'])\n",
    "MULL_min_train = np.min(train_df['MULL'])\n",
    "MULL_max_test = np.max(test_df['MULL'])\n",
    "MULL_min_test = np.min(test_df['MULL'])\n",
    "\n",
    "OT_max_train = np.max(train_df['OT'])\n",
    "OT_min_train = np.min(train_df['OT'])\n",
    "OT_max_test = np.max(test_df['OT'])\n",
    "OT_min_test = np.min(test_df['OT'])\n",
    "\n",
    "print(MULL_max_train, MULL_min_train, MULL_max_test, MULL_min_test)\n",
    "print(OT_max_train, OT_min_train, OT_max_test, OT_min_test)"
   ]
  },
  {
   "cell_type": "code",
   "execution_count": null,
   "id": "9ec9ecff",
   "metadata": {},
   "outputs": [],
   "source": [
    "# Scale the data\n"
   ]
  },
  {
   "cell_type": "code",
   "execution_count": null,
   "id": "dbca011f",
   "metadata": {},
   "outputs": [],
   "source": []
  },
  {
   "cell_type": "code",
   "execution_count": null,
   "id": "18c7377a",
   "metadata": {},
   "outputs": [],
   "source": []
  },
  {
   "cell_type": "code",
   "execution_count": null,
   "id": "85e4be81",
   "metadata": {},
   "outputs": [],
   "source": [
    "# Save as CSV files to be reused in future lessons\n",
    "\n",
    "train_df.to_csv('data/train.csv', header=True, index=False)\n",
    "val_df.to_csv('data/val.csv', header=True, index=False)\n",
    "test_df.to_csv('data/test.csv', header=True, index=False)"
   ]
  },
  {
   "cell_type": "code",
   "execution_count": null,
   "id": "48748dab",
   "metadata": {},
   "outputs": [],
   "source": []
  }
 ],
 "metadata": {
  "kernelspec": {
   "display_name": "Python 3 (ipykernel)",
   "language": "python",
   "name": "python3"
  },
  "language_info": {
   "codemirror_mode": {
    "name": "ipython",
    "version": 3
   },
   "file_extension": ".py",
   "mimetype": "text/x-python",
   "name": "python",
   "nbconvert_exporter": "python",
   "pygments_lexer": "ipython3",
   "version": "3.9.15"
  }
 },
 "nbformat": 4,
 "nbformat_minor": 5
}

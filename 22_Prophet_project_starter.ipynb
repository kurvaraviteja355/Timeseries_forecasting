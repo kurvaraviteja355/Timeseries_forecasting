{
 "cells": [
  {
   "cell_type": "markdown",
   "id": "42d4ee66",
   "metadata": {},
   "source": [
    "# Forecasting with Prophet "
   ]
  },
  {
   "cell_type": "code",
   "execution_count": null,
   "id": "d9922f94",
   "metadata": {},
   "outputs": [],
   "source": [
    "import numpy as np\n",
    "import pandas as pd\n",
    "import statsmodels.api as sm\n",
    "from itertools import product\n",
    "from fbprophet import Prophet\n",
    "import matplotlib.pyplot as plt\n",
    "\n",
    "from fbprophet.diagnostics import cross_validation\n",
    "from fbprophet.diagnostics import performance_metrics\n",
    "\n",
    "\n",
    "import warnings\n",
    "warnings.filterwarnings('ignore')\n",
    "\n",
    "%matplotlib inline"
   ]
  },
  {
   "cell_type": "code",
   "execution_count": null,
   "id": "5d591089",
   "metadata": {},
   "outputs": [],
   "source": [
    "plt.rcParams[\"figure.figsize\"] = (9,6)"
   ]
  },
  {
   "cell_type": "code",
   "execution_count": null,
   "id": "9d41492f",
   "metadata": {},
   "outputs": [],
   "source": [
    "df = sm.datasets.co2.load_pandas().data\n",
    "df = df.interpolate()\n",
    "\n",
    "df.head()"
   ]
  },
  {
   "cell_type": "code",
   "execution_count": null,
   "id": "8e81f1db",
   "metadata": {},
   "outputs": [],
   "source": [
    "fig, ax = plt.subplots()\n",
    "\n",
    "ax.plot(df['co2'])\n",
    "ax.set_xlabel('Time')\n",
    "ax.set_ylabel('CO2 concentration (ppmw)')\n",
    "\n",
    "fig.autofmt_xdate()\n",
    "plt.tight_layout()"
   ]
  },
  {
   "cell_type": "markdown",
   "id": "a6953bd9",
   "metadata": {},
   "source": [
    "## Format data for Prophet "
   ]
  },
  {
   "cell_type": "code",
   "execution_count": null,
   "id": "68549cb2",
   "metadata": {},
   "outputs": [],
   "source": []
  },
  {
   "cell_type": "code",
   "execution_count": null,
   "id": "aa148001",
   "metadata": {},
   "outputs": [],
   "source": []
  },
  {
   "cell_type": "markdown",
   "id": "4fe0ddba",
   "metadata": {},
   "source": [
    "## Hyperparameter tuning "
   ]
  },
  {
   "cell_type": "code",
   "execution_count": null,
   "id": "70d11e1d",
   "metadata": {},
   "outputs": [],
   "source": [
    "# Keep the last 104 time steps for the test set\n",
    "\n"
   ]
  },
  {
   "cell_type": "code",
   "execution_count": null,
   "id": "3e0d0544",
   "metadata": {},
   "outputs": [],
   "source": []
  },
  {
   "cell_type": "code",
   "execution_count": null,
   "id": "d4b1d3a7",
   "metadata": {},
   "outputs": [],
   "source": []
  },
  {
   "cell_type": "markdown",
   "id": "4777f9cf",
   "metadata": {},
   "source": [
    "## Rolling forecast "
   ]
  },
  {
   "cell_type": "code",
   "execution_count": null,
   "id": "2f466c7e",
   "metadata": {},
   "outputs": [],
   "source": [
    "def rolling_forecast(df: pd.DataFrame, train_len: int, horizon: int, window: int, method: str) -> list:\n",
    "    \n",
    "    total_len = train_len + horizon\n",
    "\n",
    "    if method == 'prophet':\n",
    "        # Get the predictions from Prophet\n",
    "            \n",
    "        return pred_prophet"
   ]
  },
  {
   "cell_type": "code",
   "execution_count": null,
   "id": "6909877d",
   "metadata": {},
   "outputs": [],
   "source": [
    "TRAIN_LEN = len(train)\n",
    "HORIZON = len(test)\n",
    "WINDOW = 52\n",
    "\n",
    "pred_prophet = rolling_forecast(df, TRAIN_LEN, HORIZON, WINDOW, 'prophet')\n",
    "\n",
    "test = test.copy()\n",
    "\n",
    "test.loc[:, 'pred_prophet'] = pred_prophet\n",
    "\n",
    "test.head()"
   ]
  },
  {
   "cell_type": "markdown",
   "id": "8240775b",
   "metadata": {},
   "source": [
    "## Evaluation "
   ]
  },
  {
   "cell_type": "code",
   "execution_count": null,
   "id": "12111d6f",
   "metadata": {},
   "outputs": [],
   "source": [
    "def mape(y_true, y_pred):\n",
    "    return round(np.mean(np.abs((y_true - y_pred) / y_true)) * 100, 2)"
   ]
  },
  {
   "cell_type": "code",
   "execution_count": null,
   "id": "8c1bd831",
   "metadata": {},
   "outputs": [],
   "source": [
    "mape_prophet = mape(test['y'], test['pred_prophet'])"
   ]
  },
  {
   "cell_type": "code",
   "execution_count": null,
   "id": "2bac21c8",
   "metadata": {},
   "outputs": [],
   "source": [
    "fig, ax = plt.subplots()\n",
    "\n",
    "x = ['Baseline', 'Theta', 'TES', 'SARIMA', 'Prophet']\n",
    "y = [0.36, 0.28, 0.12, 0.09, mape_prophet]\n",
    "\n",
    "ax.bar(x, y, width=0.4)\n",
    "ax.set_xlabel('Exponential smoothing models')\n",
    "ax.set_ylabel('MAPE (%)')\n",
    "ax.set_ylim(0, 1)\n",
    "\n",
    "for index, value in enumerate(y):\n",
    "    plt.text(x=index, y=value + 0.05, s=str(value), ha='center')\n",
    "    \n",
    "plt.tight_layout()"
   ]
  },
  {
   "cell_type": "code",
   "execution_count": null,
   "id": "90b61609",
   "metadata": {},
   "outputs": [],
   "source": []
  }
 ],
 "metadata": {
  "kernelspec": {
   "display_name": "Python 3",
   "language": "python",
   "name": "python3"
  },
  "language_info": {
   "codemirror_mode": {
    "name": "ipython",
    "version": 3
   },
   "file_extension": ".py",
   "mimetype": "text/x-python",
   "name": "python",
   "nbconvert_exporter": "python",
   "pygments_lexer": "ipython3",
   "version": "3.7.13"
  }
 },
 "nbformat": 4,
 "nbformat_minor": 5
}

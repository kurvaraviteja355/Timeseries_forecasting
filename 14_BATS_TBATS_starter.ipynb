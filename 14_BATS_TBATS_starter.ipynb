{
 "cells": [
  {
   "cell_type": "markdown",
   "id": "3007c8fc",
   "metadata": {},
   "source": [
    "# BATS and TBATS "
   ]
  },
  {
   "cell_type": "code",
   "execution_count": null,
   "id": "f828d88b",
   "metadata": {},
   "outputs": [],
   "source": [
    "import pandas as pd\n",
    "import numpy as np\n",
    "import matplotlib.pyplot as plt\n",
    "\n",
    "import warnings\n",
    "warnings.filterwarnings('ignore')\n",
    "\n",
    "%matplotlib inline"
   ]
  },
  {
   "cell_type": "code",
   "execution_count": null,
   "id": "022c7deb",
   "metadata": {},
   "outputs": [],
   "source": [
    "plt.rcParams[\"figure.figsize\"] = (9,6)"
   ]
  },
  {
   "cell_type": "code",
   "execution_count": null,
   "id": "dde44a91",
   "metadata": {},
   "outputs": [],
   "source": []
  },
  {
   "cell_type": "code",
   "execution_count": null,
   "id": "01cb4e42",
   "metadata": {},
   "outputs": [],
   "source": [
    "fig, ax = plt.subplots()\n",
    "\n",
    "ax.plot(df['traffic_volume'])\n",
    "ax.set_xlabel('Time')\n",
    "ax.set_ylabel('Traffic volume')\n",
    "\n",
    "fig.autofmt_xdate()\n",
    "plt.tight_layout()"
   ]
  },
  {
   "cell_type": "code",
   "execution_count": null,
   "id": "12971644",
   "metadata": {},
   "outputs": [],
   "source": [
    "fig, ax = plt.subplots()\n",
    "\n",
    "ax.plot(df['traffic_volume'])\n",
    "ax.set_xlabel('Time')\n",
    "ax.set_ylabel('Traffic volume')\n",
    "\n",
    "plt.xlim('2016-09-29 17:00:00', '2016-10-16 09:00:00')\n",
    "\n",
    "fig.autofmt_xdate()\n",
    "plt.tight_layout()"
   ]
  },
  {
   "cell_type": "code",
   "execution_count": null,
   "id": "4f9c1c47",
   "metadata": {},
   "outputs": [],
   "source": [
    "# Resample the data at every 4 hours\n"
   ]
  },
  {
   "cell_type": "code",
   "execution_count": null,
   "id": "d8666880",
   "metadata": {},
   "outputs": [],
   "source": [
    "fig, ax = plt.subplots()\n",
    "\n",
    "ax.plot(resampled_df['traffic_volume'])\n",
    "ax.set_xlabel('Time')\n",
    "ax.set_ylabel('Traffic volume')\n",
    "\n",
    "plt.xlim('2016-09-29 16:00:00', '2016-10-16 08:00:00')\n",
    "\n",
    "fig.autofmt_xdate()\n",
    "plt.tight_layout()"
   ]
  },
  {
   "cell_type": "markdown",
   "id": "b3884588",
   "metadata": {},
   "source": [
    "## BATS "
   ]
  },
  {
   "cell_type": "code",
   "execution_count": null,
   "id": "0acae58e",
   "metadata": {},
   "outputs": [],
   "source": [
    "from sktime.forecasting.bats import BATS\n",
    "\n",
    "def rolling_forecast(df: pd.DataFrame, train_len: int, horizon: int, window: int, method: str) -> list:\n",
    "    \n",
    "    total_len = train_len + horizon\n",
    "    end_idx = train_len\n",
    "\n",
    "    if method == 'last_season':\n",
    "        pred_last_season = []\n",
    "        \n",
    "        for i in range(train_len, total_len, window):\n",
    "            last_season = df[:i].iloc[-window:].values\n",
    "            pred_last_season.extend(last_season)\n",
    "            \n",
    "        return pred_last_season\n",
    "    \n",
    "    elif method == 'BATS':\n",
    "        # Get predictions from BATS\n",
    "\n",
    "        return pred_BATS"
   ]
  },
  {
   "cell_type": "code",
   "execution_count": null,
   "id": "091f8c48",
   "metadata": {},
   "outputs": [],
   "source": [
    "# Train/test split (last 42 time steps for the test set)\n",
    "train = resampled_df[:-42]\n",
    "test = resampled_df[-42:]\n",
    "\n",
    "# Run the predictions\n",
    "TRAIN_LEN = len(train)\n",
    "HORIZON = len(test)\n",
    "WINDOW = 6\n",
    "\n",
    "pred_last_season = rolling_forecast(resampled_df['traffic_volume'], TRAIN_LEN, HORIZON, WINDOW, 'last_season')\n",
    "pred_BATS = rolling_forecast(resampled_df['traffic_volume'], TRAIN_LEN, HORIZON, WINDOW, 'BATS')\n",
    "\n",
    "test.loc[:, 'pred_last_season'] = pred_last_season\n",
    "test.loc[:, 'pred_BATS'] = pred_BATS\n",
    "\n",
    "test.head()"
   ]
  },
  {
   "cell_type": "code",
   "execution_count": null,
   "id": "d14dbb51",
   "metadata": {},
   "outputs": [],
   "source": [
    "fig, ax = plt.subplots()\n",
    "\n",
    "ax.plot(resampled_df['traffic_volume'])\n",
    "ax.plot(test['traffic_volume'], 'b-', label='actual')\n",
    "ax.plot(test['pred_last_season'], 'r:', label='baseline')\n",
    "ax.plot(test['pred_BATS'], 'g-.', label='BATS')\n",
    "\n",
    "ax.set_xlabel('Time')\n",
    "ax.set_ylabel('Traffic volume')\n",
    "ax.axvspan('2016-11-03 08:00:00', '2016-11-10 04:00:00', color='#808080', alpha=0.2)\n",
    "\n",
    "ax.legend(loc='best')\n",
    "\n",
    "plt.xlim('2016-10-24 16:00:00', '2016-11-10 04:00:00')\n",
    "plt.ylim(0, 25000)\n",
    "\n",
    "fig.autofmt_xdate()\n",
    "plt.tight_layout()"
   ]
  },
  {
   "cell_type": "code",
   "execution_count": null,
   "id": "dd6b3247",
   "metadata": {},
   "outputs": [],
   "source": [
    "def mape(y_true, y_pred):\n",
    "    return round(np.mean(np.abs((y_true - y_pred) / y_true)) * 100,2)"
   ]
  },
  {
   "cell_type": "code",
   "execution_count": null,
   "id": "2773aec5",
   "metadata": {},
   "outputs": [],
   "source": [
    "mape_baseline = mape(test['traffic_volume'], test['pred_last_season'])\n",
    "mape_BATS = mape(test['traffic_volume'], test['pred_BATS'])"
   ]
  },
  {
   "cell_type": "code",
   "execution_count": null,
   "id": "eff54af1",
   "metadata": {},
   "outputs": [],
   "source": [
    "fig, ax = plt.subplots()\n",
    "\n",
    "x = ['naive seasonal', 'BATS']\n",
    "y = [mape_baseline, mape_BATS]\n",
    "\n",
    "ax.bar(x, y, width=0.4)\n",
    "ax.set_xlabel('Models')\n",
    "ax.set_ylabel('MAPE (%)')\n",
    "ax.set_ylim(0, 25)\n",
    "\n",
    "for index, value in enumerate(y):\n",
    "    plt.text(x=index, y=value + 0.5, s=str(round(value,2)), ha='center')\n",
    "\n",
    "plt.tight_layout()"
   ]
  },
  {
   "cell_type": "markdown",
   "id": "ca8b83f4",
   "metadata": {},
   "source": [
    "## TBATS "
   ]
  },
  {
   "cell_type": "code",
   "execution_count": null,
   "id": "3294feae",
   "metadata": {},
   "outputs": [],
   "source": [
    "from sktime.forecasting.tbats import TBATS\n",
    "\n",
    "def rolling_forecast(df, train_len, horizon, window, method):\n",
    "    \n",
    "    total_len = train_len + horizon\n",
    "    end_idx = train_len\n",
    "\n",
    "    if method == 'last_season':\n",
    "        pred_last_season = []\n",
    "        \n",
    "        for i in range(train_len, total_len, window):\n",
    "            last_season = df[:i].iloc[-window:].values\n",
    "            pred_last_season.extend(last_season)\n",
    "            \n",
    "        return pred_last_season\n",
    "    \n",
    "    elif method == 'BATS':\n",
    "        pred_BATS = []\n",
    "        \n",
    "        for i in range(train_len, total_len, window):\n",
    "            forecaster = BATS(use_box_cox=False,\n",
    "                              use_trend=False,\n",
    "                              use_damped_trend=False,\n",
    "                              use_arma_errors=False,\n",
    "                              sp=[6, 42])\n",
    "            forecaster.fit(df[:i])\n",
    "            predictions = forecaster.predict(np.arange(1, window+1))\n",
    "            pred_BATS.extend(predictions)\n",
    "\n",
    "\n",
    "        return pred_BATS\n",
    "    \n",
    "    elif method == 'TBATS':\n",
    "        # Get predictions from TBATS\n",
    "\n",
    "        return pred_TBATS"
   ]
  },
  {
   "cell_type": "code",
   "execution_count": null,
   "id": "7bc420f0",
   "metadata": {},
   "outputs": [],
   "source": [
    "pred_TBATS = rolling_forecast(resampled_df['traffic_volume'], TRAIN_LEN, HORIZON, WINDOW, 'TBATS')\n",
    "\n",
    "test.loc[:, 'pred_TBATS'] = pred_TBATS\n",
    "\n",
    "test.head()"
   ]
  },
  {
   "cell_type": "code",
   "execution_count": null,
   "id": "6f220d5c",
   "metadata": {},
   "outputs": [],
   "source": [
    "fig, ax = plt.subplots()\n",
    "\n",
    "ax.plot(resampled_df['traffic_volume'])\n",
    "ax.plot(test['traffic_volume'], 'b-', label='actual')\n",
    "ax.plot(test['pred_last_season'], 'r:', label='baseline')\n",
    "ax.plot(test['pred_BATS'], 'g-.', label='BATS')\n",
    "ax.plot(test['pred_TBATS'], 'k--', label='TBATS')\n",
    "\n",
    "ax.set_xlabel('Time')\n",
    "ax.set_ylabel('Traffic volume')\n",
    "ax.axvspan('2016-11-03 08:00:00', '2016-11-10 04:00:00', color='#808080', alpha=0.2)\n",
    "\n",
    "ax.legend(loc='best')\n",
    "\n",
    "plt.xlim('2016-10-24 16:00:00', '2016-11-10 04:00:00')\n",
    "plt.ylim(0, 25000)\n",
    "\n",
    "fig.autofmt_xdate()\n",
    "plt.tight_layout()"
   ]
  },
  {
   "cell_type": "code",
   "execution_count": null,
   "id": "a5fd3428",
   "metadata": {},
   "outputs": [],
   "source": [
    "mape_TBATS = mape(test['traffic_volume'], test['pred_TBATS'])"
   ]
  },
  {
   "cell_type": "code",
   "execution_count": null,
   "id": "9d27f0e4",
   "metadata": {},
   "outputs": [],
   "source": [
    "fig, ax = plt.subplots()\n",
    "\n",
    "x = ['naive seasonal', 'BATS', 'TBATS']\n",
    "y = [mape_baseline, mape_BATS, mape_TBATS]\n",
    "\n",
    "ax.bar(x, y, width=0.4)\n",
    "ax.set_xlabel('Models')\n",
    "ax.set_ylabel('MAPE (%)')\n",
    "ax.set_ylim(0, 30)\n",
    "\n",
    "for index, value in enumerate(y):\n",
    "    plt.text(x=index, y=value + 0.5, s=str(round(value,2)), ha='center')\n",
    "\n",
    "plt.tight_layout()"
   ]
  },
  {
   "cell_type": "code",
   "execution_count": null,
   "id": "6931a287",
   "metadata": {},
   "outputs": [],
   "source": []
  }
 ],
 "metadata": {
  "kernelspec": {
   "display_name": "Python 3",
   "language": "python",
   "name": "python3"
  },
  "language_info": {
   "codemirror_mode": {
    "name": "ipython",
    "version": 3
   },
   "file_extension": ".py",
   "mimetype": "text/x-python",
   "name": "python",
   "nbconvert_exporter": "python",
   "pygments_lexer": "ipython3",
   "version": "3.7.13"
  }
 },
 "nbformat": 4,
 "nbformat_minor": 5
}

{
 "cells": [
  {
   "cell_type": "markdown",
   "id": "9767c075",
   "metadata": {},
   "source": [
    "# ARIMA (p,d,q) model "
   ]
  },
  {
   "cell_type": "code",
   "execution_count": null,
   "id": "02da2d04",
   "metadata": {},
   "outputs": [],
   "source": [
    "from statsmodels.stats.diagnostic import acorr_ljungbox\n",
    "from statsmodels.tsa.statespace.sarimax import SARIMAX\n",
    "from statsmodels.tsa.stattools import adfuller\n",
    "\n",
    "from tqdm import tqdm_notebook\n",
    "from itertools import product\n",
    "\n",
    "import matplotlib.pyplot as plt\n",
    "import numpy as np\n",
    "import pandas as pd\n",
    "\n",
    "import warnings\n",
    "warnings.filterwarnings('ignore')\n",
    "\n",
    "%matplotlib inline"
   ]
  },
  {
   "cell_type": "code",
   "execution_count": null,
   "id": "ae4877d5",
   "metadata": {},
   "outputs": [],
   "source": [
    "plt.rcParams[\"figure.figsize\"] = (9,6)"
   ]
  },
  {
   "cell_type": "markdown",
   "id": "dec5f0e7",
   "metadata": {},
   "source": [
    "## Forecasting with ARIMA(p,d,q) "
   ]
  },
  {
   "cell_type": "code",
   "execution_count": null,
   "id": "a82f52f4",
   "metadata": {},
   "outputs": [],
   "source": []
  },
  {
   "cell_type": "code",
   "execution_count": null,
   "id": "20ffc28a",
   "metadata": {},
   "outputs": [],
   "source": [
    "fig, ax = plt.subplots()\n",
    "\n",
    "ax.plot(df['value'])\n",
    "ax.set_xlabel('Date')\n",
    "ax.set_ylabel('Electricity production (billions kWh)')\n",
    "\n",
    "plt.xticks(np.arange(0, 218, 8), np.arange(1956, 2012, 2))\n",
    "\n",
    "plt.title('Quarterly electricity production in Australia')\n",
    "\n",
    "fig.autofmt_xdate()\n",
    "plt.tight_layout()"
   ]
  },
  {
   "cell_type": "markdown",
   "id": "cca690ce",
   "metadata": {},
   "source": [
    "### General modling procedure "
   ]
  },
  {
   "cell_type": "markdown",
   "id": "94336e68",
   "metadata": {},
   "source": [
    "#### Find value of *d* "
   ]
  },
  {
   "cell_type": "code",
   "execution_count": null,
   "id": "a3839cb1",
   "metadata": {},
   "outputs": [],
   "source": [
    "# Run the ADF test\n",
    "\n",
    "print(f'ADF Statistic: {ad_fuller_result[0]}')\n",
    "print(f'p-value: {ad_fuller_result[1]}')"
   ]
  },
  {
   "cell_type": "code",
   "execution_count": null,
   "id": "95fe0fb9",
   "metadata": {},
   "outputs": [],
   "source": [
    "# Difference and run the ADF test again\n",
    "\n",
    "\n",
    "print(f'ADF Statistic: {ad_fuller_result[0]}')\n",
    "print(f'p-value: {ad_fuller_result[1]}')"
   ]
  },
  {
   "cell_type": "markdown",
   "id": "4d5fbb92",
   "metadata": {},
   "source": [
    "#### Train/test split "
   ]
  },
  {
   "cell_type": "code",
   "execution_count": null,
   "id": "42a8d1cb",
   "metadata": {},
   "outputs": [],
   "source": [
    "fig, ax = plt.subplots()\n",
    "\n",
    "ax.plot(df['value'])\n",
    "ax.set_xlabel('Date')\n",
    "ax.set_ylabel('Electricity production (billions kWh)')\n",
    "ax.axvspan(187, 218, color='#808080', alpha=0.2)\n",
    "\n",
    "plt.xticks(np.arange(0, 218, 8), np.arange(1956, 2012, 2))\n",
    "\n",
    "plt.title('Quarterly electricity production in Australia')\n",
    "\n",
    "fig.autofmt_xdate()\n",
    "plt.tight_layout()"
   ]
  },
  {
   "cell_type": "code",
   "execution_count": null,
   "id": "5f2ea308",
   "metadata": {},
   "outputs": [],
   "source": [
    "# Split the data (keep the last 32 time steps for the test set)\n",
    "\n"
   ]
  },
  {
   "cell_type": "code",
   "execution_count": null,
   "id": "4d13806b",
   "metadata": {},
   "outputs": [],
   "source": [
    "def ARIMA_gridsearch(endog, min_p, max_p, min_q, max_q, d):\n",
    "    \n",
    "    all_p = range(min_p, max_p+1, 1)\n",
    "    all_q = range(min_q, max_q+1, 1)\n",
    "    \n",
    "    all_orders = list(product(all_p, all_q))\n",
    "    \n",
    "    print(f'Fitting {len(all_orders)} unique models')\n",
    "    \n",
    "    results = []\n",
    "    \n",
    "    for order in tqdm_notebook(all_orders):\n",
    "        try: \n",
    "            # Fit the ARIMA model\n",
    "            \n",
    "        except:\n",
    "            continue\n",
    "            \n",
    "        results.append([order, model.aic])\n",
    "        \n",
    "    result_df = pd.DataFrame(results)\n",
    "    result_df.columns = ['(p,q)', 'AIC']\n",
    "    \n",
    "    #Sort in ascending order, lower AIC is better\n",
    "    result_df = result_df.sort_values(by='AIC', ascending=True).reset_index(drop=True)\n",
    "    \n",
    "    return result_df"
   ]
  },
  {
   "cell_type": "markdown",
   "id": "97841af1",
   "metadata": {},
   "source": [
    "#### Model selection with AIC "
   ]
  },
  {
   "cell_type": "code",
   "execution_count": null,
   "id": "32a5bb89",
   "metadata": {},
   "outputs": [],
   "source": [
    "# Run the ARIMA gridsearch\n",
    "\n"
   ]
  },
  {
   "cell_type": "code",
   "execution_count": null,
   "id": "2b87e8d2",
   "metadata": {},
   "outputs": [],
   "source": []
  },
  {
   "cell_type": "markdown",
   "id": "84e794ea",
   "metadata": {},
   "source": [
    "#### Residuals analysis "
   ]
  },
  {
   "cell_type": "code",
   "execution_count": null,
   "id": "f3b1647a",
   "metadata": {},
   "outputs": [],
   "source": []
  },
  {
   "cell_type": "code",
   "execution_count": null,
   "id": "8db23c92",
   "metadata": {},
   "outputs": [],
   "source": [
    "def ljung_box_test(residuals, is_seasonal, period):\n",
    "    \n",
    "    if is_seasonal:\n",
    "        lb_df = acorr_ljungbox(residuals, period=period)\n",
    "    else:\n",
    "        max_lag = min([10, len(residuals)/5])\n",
    "        \n",
    "        lb_df = acorr_ljungbox(residuals, np.arange(1, max_lag+1, 1))\n",
    "\n",
    "    fig, ax = plt.subplots()\n",
    "    ax.plot(lb_df['lb_pvalue'], 'b-', label='p-values')\n",
    "    ax.hlines(y=0.05, xmin=1, xmax=len(lb_df), color='black')\n",
    "    plt.tight_layout()\n",
    "    \n",
    "    if all(pvalue > 0.05 for pvalue in lb_df['lb_pvalue']):\n",
    "        print('All values are above 0.05. We fail to reject the null hypothesis. The residuals are uncorrelated')\n",
    "    else:\n",
    "        print('One p-value is smaller than 0.05')"
   ]
  },
  {
   "cell_type": "code",
   "execution_count": null,
   "id": "062a7dc8",
   "metadata": {},
   "outputs": [],
   "source": [
    "# Run the Ljung-Box test\n",
    "\n"
   ]
  },
  {
   "cell_type": "markdown",
   "id": "e179f151",
   "metadata": {},
   "source": [
    "#### Forecasting "
   ]
  },
  {
   "cell_type": "code",
   "execution_count": null,
   "id": "93cf067d",
   "metadata": {},
   "outputs": [],
   "source": [
    "def rolling_predictions(df, train_len, horizon, window, period, method):\n",
    "    \n",
    "    TOTAL_LEN = train_len + horizon\n",
    "    \n",
    "    seasonal_steps = int((window/period))\n",
    "    \n",
    "    if method == 'mean':\n",
    "        pred_mean = []\n",
    "        \n",
    "        for i in range(train_len, TOTAL_LEN, window):\n",
    "            mean = np.mean(df[:i].values)\n",
    "            pred_mean.extend(mean for _ in range(window))\n",
    "        \n",
    "        return pred_mean[:horizon]\n",
    "\n",
    "    elif method == 'last':\n",
    "        pred_last_value = []\n",
    "        \n",
    "        for i in range(train_len, TOTAL_LEN, window):\n",
    "            last_value = diff[:i].iloc[-1].values[0]\n",
    "            pred_last_value.extend(last_value for _ in range(window))\n",
    "\n",
    "        return pred_last_value[:horizon]\n",
    "    \n",
    "    elif method == 'last_season':\n",
    "        pred_last_season = []\n",
    "        \n",
    "        for i in range(train_len, TOTAL_LEN, window):\n",
    "            last_season = df[:i][-period:].values\n",
    "            pred_last_season.extend(last_season for _ in range(seasonal_steps))\n",
    "\n",
    "        pred_last_season = np.array(pred_last_season).reshape(1, -1)\n",
    "        \n",
    "        return pred_last_season[0][:horizon]\n",
    "    \n",
    "    if method == 'ARIMA':\n",
    "        # Get the predictions from the ARIMA model\n",
    "            \n",
    "        return pred_ARIMA[:horizon]"
   ]
  },
  {
   "cell_type": "code",
   "execution_count": null,
   "id": "502da601",
   "metadata": {},
   "outputs": [],
   "source": [
    "pred_df = test.copy()\n",
    "\n",
    "TRAIN_LEN = len(train)\n",
    "HORIZON = len(test)\n",
    "\n",
    "windows = [4, 8, 16, 32]\n",
    "\n",
    "for window in windows:\n",
    "\n",
    "    pred_mean = rolling_predictions(df['value'], TRAIN_LEN, HORIZON, window, 4, 'mean')\n",
    "    pred_last_season = rolling_predictions(df['value'], TRAIN_LEN, HORIZON, window, 4, 'last_season')\n",
    "    pred_ARIMA = rolling_predictions(df['value'], TRAIN_LEN, HORIZON, window, 4, 'ARIMA')\n",
    "\n",
    "    pred_df[f'pred_mean_{window}'] = pred_mean\n",
    "    pred_df[f'pred_last_season_{window}'] = pred_last_season\n",
    "    pred_df[f'pred_ARIMA_{window}'] = pred_ARIMA\n",
    "\n",
    "pred_df.head()"
   ]
  },
  {
   "cell_type": "code",
   "execution_count": null,
   "id": "c18a4554",
   "metadata": {},
   "outputs": [],
   "source": [
    "fig, axes = plt.subplots(nrows=2, ncols=2, figsize=(12,9))\n",
    "\n",
    "for i, ax in enumerate(axes.flatten()):\n",
    "    \n",
    "    ax.plot(df['value'])\n",
    "    ax.plot(pred_df['value'], 'b-', label='actual')\n",
    "    ax.plot(pred_df[f'pred_mean_{windows[i]}'], 'g:', label='mean')\n",
    "    ax.plot(pred_df[f'pred_last_season_{windows[i]}'], 'r-.', label='last season')\n",
    "    ax.plot(pred_df[f'pred_ARIMA_{windows[i]}'], 'k--', label='ARIMA(4,1,4)')\n",
    "    \n",
    "    ax.legend(loc=2)\n",
    "    ax.set_xlabel('Date')\n",
    "    ax.set_ylabel('Electricity production (10^9 kWh)')\n",
    "    ax.axvspan(187, 218, color='#808080', alpha=0.2)\n",
    "    ax.set_xlim(170, 218)\n",
    "    ax.set_title(f'Horizon = {windows[i]}')\n",
    "    \n",
    "plt.tight_layout()"
   ]
  },
  {
   "cell_type": "markdown",
   "id": "e9819b46",
   "metadata": {},
   "source": [
    "#### Evaluation "
   ]
  },
  {
   "cell_type": "code",
   "execution_count": null,
   "id": "72c64673",
   "metadata": {},
   "outputs": [],
   "source": [
    "def mape(y_true, y_pred):\n",
    "    return np.mean(np.abs((y_true - y_pred) / y_true)) * 100"
   ]
  },
  {
   "cell_type": "code",
   "execution_count": null,
   "id": "3b3293c0",
   "metadata": {},
   "outputs": [],
   "source": [
    "mape_naive_seasonal_4 = mape(pred_df['value'], pred_df['pred_last_season_4'])\n",
    "mape_ARIMA_4 = mape(pred_df['value'], pred_df['pred_ARIMA_4'])\n",
    "\n",
    "mape_naive_seasonal_8 = mape(pred_df['value'], pred_df['pred_last_season_8'])\n",
    "mape_ARIMA_8 = mape(pred_df['value'], pred_df['pred_ARIMA_8'])\n",
    "\n",
    "mape_naive_seasonal_16 = mape(pred_df['value'], pred_df['pred_last_season_16'])\n",
    "mape_ARIMA_16 = mape(pred_df['value'], pred_df['pred_ARIMA_16'])\n",
    "\n",
    "mape_naive_seasonal_32 = mape(pred_df['value'], pred_df['pred_last_season_32'])\n",
    "mape_ARIMA_32 = mape(pred_df['value'], pred_df['pred_ARIMA_32'])"
   ]
  },
  {
   "cell_type": "code",
   "execution_count": null,
   "id": "39a7b23f",
   "metadata": {},
   "outputs": [],
   "source": [
    "mapes_naive_seasonal = [mape_naive_seasonal_4, mape_naive_seasonal_8, mape_naive_seasonal_16, mape_naive_seasonal_32]\n",
    "mapes_ARIMA = [mape_ARIMA_4, mape_ARIMA_8, mape_ARIMA_16, mape_ARIMA_32]\n",
    "\n",
    "fig, axes = plt.subplots(nrows=2, ncols=2, figsize=(12,9))\n",
    "\n",
    "x = ['last season', 'ARIMA(4,1,4)']\n",
    "width = 0.3\n",
    "\n",
    "for i, ax in enumerate(axes.flatten()):\n",
    "    \n",
    "    y = [mapes_naive_seasonal[i], mapes_ARIMA[i]]\n",
    "    ax.bar(x, y, width)\n",
    "    ax.set_xlabel('Methods')\n",
    "    ax.set_ylabel('MAPE (%)')\n",
    "    ax.set_ylim(0, 10)\n",
    "    ax.set_title(f'Horizon = {windows[i]}')    \n",
    "    \n",
    "    for index, value in enumerate(y):\n",
    "        ax.text(x=index, y=value+0.5, s=str(value), ha='center')\n",
    "\n",
    "plt.tight_layout()"
   ]
  },
  {
   "cell_type": "code",
   "execution_count": null,
   "id": "1ec49c34",
   "metadata": {},
   "outputs": [],
   "source": []
  }
 ],
 "metadata": {
  "kernelspec": {
   "display_name": "Python 3",
   "language": "python",
   "name": "python3"
  },
  "language_info": {
   "codemirror_mode": {
    "name": "ipython",
    "version": 3
   },
   "file_extension": ".py",
   "mimetype": "text/x-python",
   "name": "python",
   "nbconvert_exporter": "python",
   "pygments_lexer": "ipython3",
   "version": "3.7.13"
  }
 },
 "nbformat": 4,
 "nbformat_minor": 5
}

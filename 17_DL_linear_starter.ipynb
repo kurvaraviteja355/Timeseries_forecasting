{
 "cells": [
  {
   "cell_type": "markdown",
   "id": "f26969a4",
   "metadata": {},
   "source": [
    "# Deep learning - Linear models "
   ]
  },
  {
   "cell_type": "code",
   "execution_count": null,
   "id": "04150fdd",
   "metadata": {},
   "outputs": [],
   "source": [
    "import numpy as np\n",
    "import pandas as pd\n",
    "import matplotlib.pyplot as plt\n",
    "\n",
    "import tensorflow as tf\n",
    "\n",
    "from tensorflow.keras import Model, Sequential\n",
    "\n",
    "from tensorflow.keras.optimizers import Adam\n",
    "from tensorflow.keras.callbacks import EarlyStopping\n",
    "from tensorflow.keras.losses import MeanSquaredError\n",
    "from tensorflow.keras.metrics import MeanAbsoluteError\n",
    "\n",
    "from tensorflow.keras.layers import Dense, Conv1D, LSTM, RNN\n",
    "\n",
    "import warnings\n",
    "warnings.filterwarnings('ignore')"
   ]
  },
  {
   "cell_type": "code",
   "execution_count": null,
   "id": "3353f47d",
   "metadata": {},
   "outputs": [],
   "source": [
    "plt.rcParams[\"figure.figsize\"] = (9,6)"
   ]
  },
  {
   "cell_type": "code",
   "execution_count": null,
   "id": "fb0ccd5a",
   "metadata": {},
   "outputs": [],
   "source": [
    "np.random.seed(42)\n",
    "tf.random.set_seed(42)\n",
    "tf.keras.utils.set_random_seed(42)"
   ]
  },
  {
   "cell_type": "code",
   "execution_count": null,
   "id": "a767c1fa",
   "metadata": {},
   "outputs": [],
   "source": [
    "train_df = pd.read_csv('data/train.csv')\n",
    "val_df = pd.read_csv('data/val.csv')\n",
    "test_df = pd.read_csv('data/test.csv')"
   ]
  },
  {
   "cell_type": "code",
   "execution_count": null,
   "id": "f1d76f34",
   "metadata": {},
   "outputs": [],
   "source": [
    "train_df.head()"
   ]
  },
  {
   "cell_type": "code",
   "execution_count": null,
   "id": "5302ea2c",
   "metadata": {},
   "outputs": [],
   "source": [
    "# Function to create windows of data for training\n",
    "\n"
   ]
  },
  {
   "cell_type": "code",
   "execution_count": null,
   "id": "3f866f18",
   "metadata": {},
   "outputs": [],
   "source": [
    "# Function to train deep learning models\n"
   ]
  },
  {
   "cell_type": "code",
   "execution_count": null,
   "id": "af9bf579",
   "metadata": {},
   "outputs": [],
   "source": [
    "MULL_max_train = 7.568999767303468\n",
    "MULL_min_train = -5.934000015258789\n",
    "MULL_max_test = 4.690999984741211\n",
    "MULL_min_test = -3.3399999141693115\n",
    "\n",
    "OT_max_train = 46.00699996948242\n",
    "OT_min_train = -4.079999923706056\n",
    "OT_max_test = 17.165000915527347\n",
    "OT_min_test = 3.025000095367432"
   ]
  },
  {
   "cell_type": "markdown",
   "id": "c3e14e70",
   "metadata": {},
   "source": [
    "## Single-step model "
   ]
  },
  {
   "cell_type": "code",
   "execution_count": null,
   "id": "aa3e897d",
   "metadata": {},
   "outputs": [],
   "source": [
    "# Create a window of data with input length = 1 and output length = 1\n",
    "\n",
    "# Store a sample batch to plot forecasts\n",
    "ss_sample_batch = next(iter(test_ds_ss))"
   ]
  },
  {
   "cell_type": "code",
   "execution_count": null,
   "id": "2059d5b1",
   "metadata": {
    "scrolled": true
   },
   "outputs": [],
   "source": [
    "# Train a linear single-step model\n"
   ]
  },
  {
   "cell_type": "code",
   "execution_count": null,
   "id": "9720af27",
   "metadata": {},
   "outputs": [],
   "source": [
    "def plot_history(history):\n",
    "\n",
    "    fig, (ax1, ax2) = plt.subplots(nrows=1, ncols=2)\n",
    "\n",
    "    ax1.plot(history.history['loss'], label='Train')\n",
    "    ax1.plot(history.history['val_loss'], label='Validation')\n",
    "    ax1.set_xlabel('Epochs')\n",
    "    ax1.set_ylabel('Loss')\n",
    "    ax1.set_title('Loss')\n",
    "    ax1.legend(loc='best')\n",
    "\n",
    "    ax2.plot(history.history['mean_absolute_error'], label='Train')\n",
    "    ax2.plot(history.history['val_mean_absolute_error'], label='Validation')\n",
    "    ax2.set_xlabel('Epochs')\n",
    "    ax2.set_ylabel('MAE')\n",
    "    ax2.set_title('Mean absolute error')\n",
    "    ax2.legend(loc='best')\n",
    "\n",
    "    plt.tight_layout()"
   ]
  },
  {
   "cell_type": "code",
   "execution_count": null,
   "id": "2a19bc3c",
   "metadata": {},
   "outputs": [],
   "source": [
    "# Plot the loss and MAE\n"
   ]
  },
  {
   "cell_type": "code",
   "execution_count": null,
   "id": "9d33e9a9",
   "metadata": {},
   "outputs": [],
   "source": [
    "def plot_predictions(model, sample_batch, model_type):\n",
    "    \n",
    "    inputs, outputs = sample_batch\n",
    "    preds = model(inputs)\n",
    "    \n",
    "    if model_type == 'single_step':      \n",
    "\n",
    "        fig, ax = plt.subplots()\n",
    "        \n",
    "        # Inverse transform the min-max scaling\n",
    "        \n",
    "\n",
    "        ax.plot(actual, label='Actual')\n",
    "        ax.plot(predictions, label='Predicted')\n",
    "        ax.set_xlabel('Time steps')\n",
    "        ax.set_ylabel('Oil temperature')\n",
    "        ax.set_title('Predictions on a sample batch')\n",
    "        ax.legend(loc='best')\n",
    "        \n",
    "    elif model_type == 'multi_step':\n",
    "\n",
    "        fig, ax = plt.subplots()\n",
    "        \n",
    "        actual_scaled = outputs.numpy().flatten()[:48]\n",
    "        actual = actual_scaled * (OT_max_test - OT_min_test) + OT_min_test\n",
    "        \n",
    "        predictions_scaled = preds.numpy().flatten()[:48]\n",
    "        predictions = predictions_scaled * (OT_max_train - OT_min_train) + OT_min_train\n",
    "\n",
    "        ax.plot(actual, label='Actual')\n",
    "        ax.plot(predictions, label='Predicted')\n",
    "        ax.set_xlabel('Time steps')\n",
    "        ax.set_ylabel('Oil temperature')\n",
    "        ax.set_title('Predictions on a sample batch')\n",
    "        ax.legend(loc='best')\n",
    "        \n",
    "    elif model_type == 'multi_output':\n",
    "        \n",
    "        fig, (ax1, ax2) = plt.subplots(nrows=2, ncols=1)\n",
    "        \n",
    "        OT_actual_scaled = outputs.numpy().flatten()[0::2]\n",
    "        OT_actual = OT_actual_scaled * (OT_max_test - OT_min_test) + OT_min_test\n",
    "        \n",
    "        OT_predictions_scaled = preds.numpy().flatten()[0::2]\n",
    "        OT_predictions = OT_predictions_scaled * (OT_max_train - OT_min_train) + OT_min_train\n",
    "\n",
    "        MULL_actual_scaled = outputs.numpy().flatten()[1::2]\n",
    "        MULL_actual = MULL_actual_scaled * (MULL_max_test - MULL_min_test) + MULL_min_test\n",
    "        \n",
    "        MULL_predictions_scaled = preds.numpy().flatten()[1::2]\n",
    "        MULL_predictions = MULL_predictions_scaled * (MULL_max_train - MULL_min_train) + MULL_min_train\n",
    "        \n",
    "        ax1.plot(OT_actual, label='Actual')\n",
    "        ax1.plot(OT_predictions, label='Predicted')\n",
    "        ax1.set_xlabel('Time')\n",
    "        ax1.set_ylabel('Oil temperature')\n",
    "        ax1.legend(loc='best')\n",
    "        ax1.set_title('Predictions on a sample batch')\n",
    "        \n",
    "        ax2.plot(MULL_actual, label='Actual')\n",
    "        ax2.plot(MULL_predictions, label='Predicted')\n",
    "        ax2.set_xlabel('Time')\n",
    "        ax2.set_ylabel('MULL')\n",
    "        ax2.legend(loc='best')\n",
    "        \n",
    "    plt.tight_layout()"
   ]
  },
  {
   "cell_type": "code",
   "execution_count": null,
   "id": "45189ab0",
   "metadata": {},
   "outputs": [],
   "source": [
    "# Plot the predictions\n"
   ]
  },
  {
   "cell_type": "markdown",
   "id": "101f78a2",
   "metadata": {},
   "source": [
    "## Multi-step model "
   ]
  },
  {
   "cell_type": "code",
   "execution_count": null,
   "id": "fb0a1626",
   "metadata": {},
   "outputs": [],
   "source": [
    "# Create a window of input length = 24 and output length = 24\n",
    "\n",
    "\n",
    "# Store a sample batch to plot the predictions\n",
    "ms_sample_batch = next(iter(test_ds_ms))"
   ]
  },
  {
   "cell_type": "code",
   "execution_count": null,
   "id": "00a1f809",
   "metadata": {
    "scrolled": true
   },
   "outputs": [],
   "source": [
    "# Create a linear multi-step model\n",
    "\n",
    "ms_linear_history = train_model(ms_linear, train_ds_ms, val_ds_ms)"
   ]
  },
  {
   "cell_type": "code",
   "execution_count": null,
   "id": "5f6c222c",
   "metadata": {},
   "outputs": [],
   "source": [
    "plot_history(ms_linear_history)"
   ]
  },
  {
   "cell_type": "code",
   "execution_count": null,
   "id": "2b777950",
   "metadata": {},
   "outputs": [],
   "source": [
    "plot_predictions(ms_linear, ms_sample_batch, 'multi_step')"
   ]
  },
  {
   "cell_type": "markdown",
   "id": "b5a02317",
   "metadata": {},
   "source": [
    "## Multi_output "
   ]
  },
  {
   "cell_type": "code",
   "execution_count": null,
   "id": "f6ce1498",
   "metadata": {},
   "outputs": [],
   "source": [
    "# Create a window of input length = 1 and output length = 1 to predict OT and MULL\n",
    "\n",
    "mo_sample_batch = next(iter(test_ds_mo))"
   ]
  },
  {
   "cell_type": "code",
   "execution_count": null,
   "id": "90b83dd3",
   "metadata": {
    "scrolled": true
   },
   "outputs": [],
   "source": [
    "# Create a multi-output linear model\n",
    "\n",
    "mo_linear_history = train_model(mo_linear, train_ds_mo, val_ds_mo)"
   ]
  },
  {
   "cell_type": "code",
   "execution_count": null,
   "id": "0bdb5cd9",
   "metadata": {},
   "outputs": [],
   "source": [
    "plot_history(mo_linear_history)"
   ]
  },
  {
   "cell_type": "code",
   "execution_count": null,
   "id": "ec316e57",
   "metadata": {},
   "outputs": [],
   "source": [
    "plot_predictions(mo_linear, mo_sample_batch, 'multi_output')"
   ]
  },
  {
   "cell_type": "markdown",
   "id": "a06177f7",
   "metadata": {},
   "source": [
    "## Evaluation "
   ]
  },
  {
   "cell_type": "code",
   "execution_count": null,
   "id": "c276e874",
   "metadata": {},
   "outputs": [],
   "source": [
    "mae_linear_ss = ss_linear.evaluate(test_ds_ss)[1]\n",
    "mae_linear_ms = ms_linear.evaluate(test_ds_ms)[1]\n",
    "mae_linear_mo = mo_linear.evaluate(test_ds_mo)[1]"
   ]
  },
  {
   "cell_type": "code",
   "execution_count": null,
   "id": "9766bcb5",
   "metadata": {},
   "outputs": [],
   "source": []
  }
 ],
 "metadata": {
  "kernelspec": {
   "display_name": "Python 3 (ipykernel)",
   "language": "python",
   "name": "python3"
  },
  "language_info": {
   "codemirror_mode": {
    "name": "ipython",
    "version": 3
   },
   "file_extension": ".py",
   "mimetype": "text/x-python",
   "name": "python",
   "nbconvert_exporter": "python",
   "pygments_lexer": "ipython3",
   "version": "3.9.15"
  }
 },
 "nbformat": 4,
 "nbformat_minor": 5
}

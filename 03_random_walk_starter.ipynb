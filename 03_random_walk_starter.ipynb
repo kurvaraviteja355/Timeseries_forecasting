{
 "cells": [
  {
   "cell_type": "markdown",
   "id": "76b9d94a",
   "metadata": {},
   "source": [
    "# The random walk "
   ]
  },
  {
   "cell_type": "code",
   "execution_count": 1,
   "id": "6c549500",
   "metadata": {},
   "outputs": [],
   "source": [
    "from statsmodels.graphics.tsaplots import plot_acf\n",
    "from statsmodels.tsa.stattools import adfuller\n",
    "import matplotlib.pyplot as plt\n",
    "import numpy as np\n",
    "import pandas as pd\n",
    "\n",
    "import warnings\n",
    "warnings.filterwarnings('ignore')\n",
    "\n",
    "%matplotlib inline"
   ]
  },
  {
   "cell_type": "code",
   "execution_count": 2,
   "id": "45fa0f1d",
   "metadata": {},
   "outputs": [],
   "source": [
    "plt.rcParams[\"figure.figsize\"] = (9,6)"
   ]
  },
  {
   "cell_type": "markdown",
   "id": "f43ff899",
   "metadata": {},
   "source": [
    "## Simulate a random walk "
   ]
  },
  {
   "cell_type": "code",
   "execution_count": null,
   "id": "8ca99c9e",
   "metadata": {},
   "outputs": [],
   "source": []
  },
  {
   "cell_type": "markdown",
   "id": "f58cd714",
   "metadata": {},
   "source": [
    "### Compare a stationary and a non-stationary series "
   ]
  },
  {
   "cell_type": "code",
   "execution_count": null,
   "id": "6a8b09df",
   "metadata": {},
   "outputs": [],
   "source": []
  },
  {
   "cell_type": "code",
   "execution_count": null,
   "id": "64edd510",
   "metadata": {},
   "outputs": [],
   "source": []
  },
  {
   "cell_type": "code",
   "execution_count": null,
   "id": "705480f4",
   "metadata": {},
   "outputs": [],
   "source": [
    "fig, ax = plt.subplots()\n",
    "\n",
    "ax.plot(stationary, linestyle='-', label='stationary')\n",
    "ax.plot(non_stationary, linestyle='--', label='non-stationary')\n",
    "ax.set_xlabel('Timesteps')\n",
    "ax.set_ylabel('Value')\n",
    "ax.legend(loc=2)\n",
    "\n",
    "plt.tight_layout()"
   ]
  },
  {
   "cell_type": "code",
   "execution_count": null,
   "id": "1a9b5a3e",
   "metadata": {},
   "outputs": [],
   "source": []
  },
  {
   "cell_type": "code",
   "execution_count": null,
   "id": "20924623",
   "metadata": {},
   "outputs": [],
   "source": []
  },
  {
   "cell_type": "code",
   "execution_count": null,
   "id": "6146d138",
   "metadata": {},
   "outputs": [],
   "source": [
    "fig, ax = plt.subplots()\n",
    "\n",
    "ax.plot(stationary_mean, label='stationary')\n",
    "ax.plot(non_stationary_mean, linestyle='--', label='non-stationary')\n",
    "ax.set_xlabel('Timesteps')\n",
    "ax.set_ylabel('Mean')\n",
    "ax.legend(loc=1)\n",
    "\n",
    "plt.tight_layout()"
   ]
  },
  {
   "cell_type": "code",
   "execution_count": null,
   "id": "c847d84c",
   "metadata": {},
   "outputs": [],
   "source": []
  },
  {
   "cell_type": "code",
   "execution_count": null,
   "id": "0eb32ede",
   "metadata": {},
   "outputs": [],
   "source": []
  },
  {
   "cell_type": "code",
   "execution_count": null,
   "id": "7781e731",
   "metadata": {},
   "outputs": [],
   "source": [
    "fig, ax = plt.subplots()\n",
    "\n",
    "ax.plot(stationary_var, label='stationary')\n",
    "ax.plot(non_stationary_var, linestyle='--', label='non-stationary')\n",
    "ax.set_xlabel('Timesteps')\n",
    "ax.set_ylabel('Variance')\n",
    "ax.legend(loc=2)\n",
    "\n",
    "plt.tight_layout()"
   ]
  },
  {
   "cell_type": "markdown",
   "id": "12bb5dff",
   "metadata": {},
   "source": [
    "### using the Augmented Dickey-Fuller (ADF) test for stationarity "
   ]
  },
  {
   "cell_type": "code",
   "execution_count": null,
   "id": "3389ea8a",
   "metadata": {},
   "outputs": [],
   "source": []
  },
  {
   "cell_type": "code",
   "execution_count": null,
   "id": "99c95ad9",
   "metadata": {},
   "outputs": [],
   "source": []
  },
  {
   "cell_type": "code",
   "execution_count": null,
   "id": "4eca92e0",
   "metadata": {},
   "outputs": [],
   "source": [
    "plt.plot(diff_random_walk)\n",
    "plt.title('Differenced Random Walk')\n",
    "plt.xlabel('Timesteps')\n",
    "plt.ylabel('Value')\n",
    "\n",
    "plt.tight_layout()"
   ]
  },
  {
   "cell_type": "code",
   "execution_count": null,
   "id": "77f4cc68",
   "metadata": {},
   "outputs": [],
   "source": []
  },
  {
   "cell_type": "markdown",
   "id": "186b49bc",
   "metadata": {},
   "source": [
    "### Plot the autocorrelation function (ACF) "
   ]
  },
  {
   "cell_type": "code",
   "execution_count": null,
   "id": "e43f9405",
   "metadata": {},
   "outputs": [],
   "source": []
  },
  {
   "cell_type": "markdown",
   "id": "929d4034",
   "metadata": {},
   "source": [
    "## Is AMZN a random walk? "
   ]
  },
  {
   "cell_type": "code",
   "execution_count": null,
   "id": "942d35db",
   "metadata": {},
   "outputs": [],
   "source": [
    "# Daily closing price of AMZN (Amazon) stock from October 5th 2021 to October 5th 2022\n"
   ]
  },
  {
   "cell_type": "code",
   "execution_count": null,
   "id": "e9a87dce",
   "metadata": {},
   "outputs": [],
   "source": [
    "fig, ax = plt.subplots(figsize=(9,6))\n",
    "\n",
    "ax.plot(df['Date'], df['Close'])\n",
    "ax.set_xlabel('Date')\n",
    "ax.set_ylabel('Closing price (USD)')\n",
    "\n",
    "plt.xticks(\n",
    "    [19, 40, 62, 82, 101, 123, 144, 165, 186, 206, 229, 250], \n",
    "    ['Nov', 'Dec', 'Jan 2022', 'Feb', 'Mar', 'April', 'May', 'Jun', 'Jul', 'Aug', 'Sep', 'Oct'])\n",
    "\n",
    "plt.title('Daily closing price of AMZN from Oct. 5th 2021 to Oct. 5th 2022')\n",
    "fig.autofmt_xdate()\n",
    "plt.tight_layout()"
   ]
  },
  {
   "cell_type": "code",
   "execution_count": null,
   "id": "522d4756",
   "metadata": {},
   "outputs": [],
   "source": []
  },
  {
   "cell_type": "code",
   "execution_count": null,
   "id": "b845eb44",
   "metadata": {},
   "outputs": [],
   "source": []
  },
  {
   "cell_type": "code",
   "execution_count": null,
   "id": "485e836a",
   "metadata": {},
   "outputs": [],
   "source": []
  },
  {
   "cell_type": "code",
   "execution_count": null,
   "id": "4bde381a",
   "metadata": {},
   "outputs": [],
   "source": []
  },
  {
   "cell_type": "markdown",
   "id": "0a98f6e3",
   "metadata": {},
   "source": [
    "## Forecasting a random walk\n",
    "### Forecasting on a long horizon"
   ]
  },
  {
   "cell_type": "code",
   "execution_count": null,
   "id": "7518259c",
   "metadata": {},
   "outputs": [],
   "source": []
  },
  {
   "cell_type": "code",
   "execution_count": null,
   "id": "cd9dad37",
   "metadata": {},
   "outputs": [],
   "source": [
    "fig, ax = plt.subplots()\n",
    "\n",
    "ax.plot(random_walk)\n",
    "ax.set_xlabel('Timesteps')\n",
    "ax.set_ylabel('Value')\n",
    "ax.axvspan(800, 1000, color='#808080', alpha=0.2)\n",
    "\n",
    "plt.tight_layout()"
   ]
  },
  {
   "cell_type": "code",
   "execution_count": null,
   "id": "1be797c3",
   "metadata": {},
   "outputs": [],
   "source": []
  },
  {
   "cell_type": "code",
   "execution_count": null,
   "id": "d8d0019f",
   "metadata": {},
   "outputs": [],
   "source": []
  },
  {
   "cell_type": "code",
   "execution_count": null,
   "id": "083e5d98",
   "metadata": {},
   "outputs": [],
   "source": []
  },
  {
   "cell_type": "code",
   "execution_count": null,
   "id": "9c439ffa",
   "metadata": {},
   "outputs": [],
   "source": [
    "fig, ax = plt.subplots()\n",
    "\n",
    "ax.plot(train.value, 'b-')\n",
    "ax.plot(test['value'], 'b-')\n",
    "ax.plot(test['pred_mean'], 'r-.', label='Mean')\n",
    "ax.plot(test['pred_last'], 'g--', label='Last value')\n",
    "ax.plot(test['pred_drift'], 'k:', label='Drift')\n",
    "\n",
    "ax.axvspan(800, 1000, color='#808080', alpha=0.2)\n",
    "ax.legend(loc=2)\n",
    "\n",
    "ax.set_xlabel('Timesteps')\n",
    "ax.set_ylabel('Value')\n",
    "\n",
    "plt.title('Forecasting a simulated random walk')\n",
    "\n",
    "plt.tight_layout()"
   ]
  },
  {
   "cell_type": "markdown",
   "id": "b0138f11",
   "metadata": {},
   "source": [
    "#### Evaluation "
   ]
  },
  {
   "cell_type": "code",
   "execution_count": null,
   "id": "69159518",
   "metadata": {},
   "outputs": [],
   "source": [
    "from sklearn.metrics import mean_absolute_error\n",
    "\n",
    "mae_mean = mean_absolute_error(test['value'], test['pred_mean'])\n",
    "mae_last = mean_absolute_error(test['value'], test['pred_last'])\n",
    "mae_drift = mean_absolute_error(test['value'], test['pred_drift'])"
   ]
  },
  {
   "cell_type": "code",
   "execution_count": null,
   "id": "5bdbd1b1",
   "metadata": {},
   "outputs": [],
   "source": [
    "fig, ax = plt.subplots()\n",
    "\n",
    "x = ['mean', 'last_value', 'drift']\n",
    "y = [mae_mean, mae_last, mae_drift]\n",
    "\n",
    "ax.bar(x, y, width=0.4)\n",
    "ax.set_xlabel('Methods')\n",
    "ax.set_ylabel('MAE')\n",
    "ax.set_ylim(0, 45)\n",
    "\n",
    "for index, value in enumerate(y):\n",
    "    plt.text(x=index, y=value+0.5, s=str(round(value, 2)), ha='center')\n",
    "\n",
    "plt.title('MAE of each forecasting method')\n",
    "plt.tight_layout()"
   ]
  },
  {
   "cell_type": "markdown",
   "id": "82ae8893",
   "metadata": {},
   "source": [
    "### Forecasting the closing price of AMZN \n",
    "\n",
    "Forecast the last 50 time steps of the AMZN closing price"
   ]
  },
  {
   "cell_type": "code",
   "execution_count": null,
   "id": "48d80c0e",
   "metadata": {},
   "outputs": [],
   "source": []
  },
  {
   "cell_type": "code",
   "execution_count": null,
   "id": "0658109e",
   "metadata": {},
   "outputs": [],
   "source": [
    "fig, ax = plt.subplots(figsize=(9,6))\n",
    "\n",
    "ax.plot(AMZN_df['Date'], AMZN_df['Close'])\n",
    "ax.set_xlabel('Date')\n",
    "ax.set_ylabel('Closing price (USD)')\n",
    "\n",
    "plt.xticks(\n",
    "    [19, 40, 62, 82, 101, 123, 144, 165, 186, 206, 229, 250], \n",
    "    ['Nov', 'Dec', 'Jan 2022', 'Feb', 'Mar', 'April', 'May', 'Jun', 'Jul', 'Aug', 'Sep', 'Oct'])\n",
    "\n",
    "ax.axvspan(203, 252, color='#808080', alpha=0.2)\n",
    "\n",
    "plt.title('Daily closing price of AMZN from Oct. 5th 2021 to Oct. 5th 2022')\n",
    "\n",
    "fig.autofmt_xdate()\n",
    "plt.tight_layout()"
   ]
  },
  {
   "cell_type": "code",
   "execution_count": null,
   "id": "6f882d59",
   "metadata": {},
   "outputs": [],
   "source": [
    "# Predict the historical mean\n",
    "\n",
    "# Predict the mean of the last known 50 days\n",
    "\n",
    "# Predict the last known value\n",
    "\n",
    "# Predict with drift\n"
   ]
  },
  {
   "cell_type": "code",
   "execution_count": null,
   "id": "4967d859",
   "metadata": {},
   "outputs": [],
   "source": [
    "fig, ax = plt.subplots(figsize=(9,6))\n",
    "\n",
    "ax.plot(AMZN_train['Close'])\n",
    "ax.plot(AMZN_test['Close'])\n",
    "ax.plot(AMZN_test['pred_mean'])\n",
    "ax.plot(AMZN_test['pred_mean_50'])\n",
    "ax.plot(AMZN_test['pred_last'])\n",
    "ax.plot(AMZN_test['pred_drift'])\n",
    "ax.set_xlabel('Date')\n",
    "ax.set_ylabel('Closing price (USD)')\n",
    "\n",
    "plt.xticks(\n",
    "    [19, 40, 62, 82, 101, 123, 144, 165, 186, 206, 229, 250], \n",
    "    ['Nov', 'Dec', 'Jan 2022', 'Feb', 'Mar', 'April', 'May', 'Jun', 'Jul', 'Aug', 'Sep', 'Oct'])\n",
    "\n",
    "ax.axvspan(203, 252, color='#808080', alpha=0.2)\n",
    "\n",
    "plt.title('Daily closing price of AMZN from Oct. 5th 2021 to Oct. 5th 2022')\n",
    "\n",
    "fig.autofmt_xdate()\n",
    "plt.tight_layout()"
   ]
  },
  {
   "cell_type": "code",
   "execution_count": null,
   "id": "4e90a5d0",
   "metadata": {},
   "outputs": [],
   "source": [
    "mae_mean = mean_absolute_error(AMZN_test['Close'], AMZN_test['pred_mean'])\n",
    "mae_mean_50 = mean_absolute_error(AMZN_test['Close'], AMZN_test['pred_mean_50'])\n",
    "mae_last = mean_absolute_error(AMZN_test['Close'], AMZN_test['pred_last'])\n",
    "mae_drift = mean_absolute_error(AMZN_test['Close'], AMZN_test['pred_drift'])\n",
    "\n",
    "fig, ax = plt.subplots()\n",
    "\n",
    "x = ['mean', 'mean_50', 'last_value', 'drift']\n",
    "y = [mae_mean, mae_mean_50, mae_last, mae_drift]\n",
    "\n",
    "ax.bar(x, y, width=0.4)\n",
    "ax.set_xlabel('Methods')\n",
    "ax.set_ylabel('MAE')\n",
    "ax.set_ylim(0, 25)\n",
    "\n",
    "for index, value in enumerate(y):\n",
    "    plt.text(x=index, y=value+0.5, s=str(round(value, 2)), ha='center')\n",
    "\n",
    "plt.title('MAE of each forecasting method')\n",
    "plt.tight_layout()"
   ]
  },
  {
   "cell_type": "markdown",
   "id": "590eff46",
   "metadata": {},
   "source": [
    "### Forecasting the next time step "
   ]
  },
  {
   "cell_type": "code",
   "execution_count": null,
   "id": "b5baa124",
   "metadata": {},
   "outputs": [],
   "source": []
  },
  {
   "cell_type": "code",
   "execution_count": null,
   "id": "9fdcc767",
   "metadata": {},
   "outputs": [],
   "source": [
    "fig, ax = plt.subplots()\n",
    "\n",
    "ax.plot(df, 'b-', label='actual')\n",
    "ax.plot(df_shift, 'r-.', label='forecast')\n",
    "\n",
    "ax.legend(loc='best')\n",
    "\n",
    "ax.set_xlabel('Timesteps')\n",
    "ax.set_ylabel('Value')\n",
    "\n",
    "plt.tight_layout()"
   ]
  },
  {
   "cell_type": "markdown",
   "id": "18df17ea",
   "metadata": {},
   "source": [
    "#### Evaluation "
   ]
  },
  {
   "cell_type": "code",
   "execution_count": null,
   "id": "68654ed0",
   "metadata": {},
   "outputs": [],
   "source": []
  },
  {
   "cell_type": "code",
   "execution_count": null,
   "id": "e75749ad",
   "metadata": {},
   "outputs": [],
   "source": [
    "fig, ax = plt.subplots()\n",
    "\n",
    "ax.plot(df, 'b-', label='actual')\n",
    "ax.plot(df_shift, 'r-.', label='forecast')\n",
    "\n",
    "ax.legend(loc=2)\n",
    "\n",
    "ax.set_xlim(900, 1000)\n",
    "ax.set_ylim(-70, -40)\n",
    "\n",
    "ax.set_xlabel('Timesteps')\n",
    "ax.set_ylabel('Value')\n",
    "\n",
    "plt.title('Forecasting the next timestep of a random walk')\n",
    "\n",
    "plt.tight_layout()"
   ]
  }
 ],
 "metadata": {
  "kernelspec": {
   "display_name": "Python 3",
   "language": "python",
   "name": "python3"
  },
  "language_info": {
   "codemirror_mode": {
    "name": "ipython",
    "version": 3
   },
   "file_extension": ".py",
   "mimetype": "text/x-python",
   "name": "python",
   "nbconvert_exporter": "python",
   "pygments_lexer": "ipython3",
   "version": "3.7.13"
  }
 },
 "nbformat": 4,
 "nbformat_minor": 5
}

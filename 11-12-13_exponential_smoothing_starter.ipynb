{
 "cells": [
  {
   "cell_type": "markdown",
   "id": "a571a79c",
   "metadata": {},
   "source": [
    "# Exponential smoothing "
   ]
  },
  {
   "cell_type": "code",
   "execution_count": null,
   "id": "07b79b11",
   "metadata": {},
   "outputs": [],
   "source": [
    "import matplotlib.pyplot as plt\n",
    "import numpy as np\n",
    "import pandas as pd\n",
    "\n",
    "import warnings\n",
    "warnings.filterwarnings('ignore')\n",
    "\n",
    "%matplotlib inline"
   ]
  },
  {
   "cell_type": "code",
   "execution_count": null,
   "id": "28f93b74",
   "metadata": {},
   "outputs": [],
   "source": [
    "plt.rcParams[\"figure.figsize\"] = (9,6)"
   ]
  },
  {
   "cell_type": "code",
   "execution_count": null,
   "id": "09a13f13",
   "metadata": {},
   "outputs": [],
   "source": []
  },
  {
   "cell_type": "code",
   "execution_count": null,
   "id": "b13c97f2",
   "metadata": {},
   "outputs": [],
   "source": [
    "fig, ax = plt.subplots()\n",
    "\n",
    "ax.plot(df['value'])\n",
    "ax.set_xlabel('Date')\n",
    "ax.set_ylabel('Monthly government expenditure (millions)')\n",
    "\n",
    "plt.xticks(np.arange(6, 204, 12), np.arange(1992, 2009, 1))\n",
    "\n",
    "plt.title('Monthly corticosteroid drug subsidy in Australia from 1991 to 2008')\n",
    "\n",
    "fig.autofmt_xdate()\n",
    "plt.tight_layout()"
   ]
  },
  {
   "cell_type": "markdown",
   "id": "b476a2b6",
   "metadata": {},
   "source": [
    "## Simple exponential smoothing"
   ]
  },
  {
   "cell_type": "code",
   "execution_count": null,
   "id": "d71554ba",
   "metadata": {},
   "outputs": [],
   "source": [
    "# Train/test split (last 36 time steps for the test set)\n",
    "\n"
   ]
  },
  {
   "cell_type": "code",
   "execution_count": null,
   "id": "49588360",
   "metadata": {},
   "outputs": [],
   "source": [
    "from statsmodels.tsa.holtwinters import SimpleExpSmoothing\n",
    "\n",
    "def rolling_forecast(df, train_len, horizon, window, method):\n",
    "    \n",
    "    total_len = train_len + horizon\n",
    "    end_idx = train_len\n",
    "\n",
    "    if method == 'last_season':\n",
    "        pred_last_season = []\n",
    "        \n",
    "        for i in range(train_len, total_len, window):\n",
    "            last_season = df[:i].iloc[-12:].values\n",
    "            pred_last_season.extend(last_season)\n",
    "            \n",
    "        return pred_last_season\n",
    "    \n",
    "    elif method == 'simple_exp':\n",
    "        # Get the predictions from simple exponential smoothing\n",
    "\n",
    "        return pred_simple_exp"
   ]
  },
  {
   "cell_type": "code",
   "execution_count": null,
   "id": "6ebfac24",
   "metadata": {},
   "outputs": [],
   "source": [
    "TRAIN_LEN = len(train)\n",
    "HORIZON = len(test)\n",
    "WINDOW = 12\n",
    "\n",
    "pred_last_season = rolling_forecast(df['value'], TRAIN_LEN, HORIZON, WINDOW, 'last_season')\n",
    "pred_simple_exp = rolling_forecast(df['value'], TRAIN_LEN, HORIZON, WINDOW, 'simple_exp')\n",
    "\n",
    "test.loc[:, 'pred_last_season'] = pred_last_season\n",
    "test.loc[:, 'pred_simple_exp'] = pred_simple_exp\n",
    "\n",
    "test.head()"
   ]
  },
  {
   "cell_type": "code",
   "execution_count": null,
   "id": "33cab288",
   "metadata": {},
   "outputs": [],
   "source": [
    "fig, ax = plt.subplots()\n",
    "\n",
    "ax.plot(df['value'])\n",
    "ax.plot(test['value'], 'b-', label='Actual')\n",
    "ax.plot(test['pred_last_season'], 'r:', label='naive seasonal')\n",
    "ax.plot(test['pred_simple_exp'], 'g-.', label='SES')\n",
    "ax.set_xlabel('Date')\n",
    "ax.set_ylabel('Monthly government expenditure (millions)')\n",
    "ax.axvspan(169, 204, color='#808080', alpha=0.2)\n",
    "ax.legend(loc='best')\n",
    "\n",
    "plt.xticks(np.arange(6, 204, 12), np.arange(1992, 2009, 1))\n",
    "\n",
    "plt.title('Monthly corticosteroid drug subsidy in Australia from 1991 to 2008')\n",
    "\n",
    "fig.autofmt_xdate()\n",
    "plt.tight_layout()"
   ]
  },
  {
   "cell_type": "markdown",
   "id": "e6090028",
   "metadata": {},
   "source": [
    "### Evaluation "
   ]
  },
  {
   "cell_type": "code",
   "execution_count": null,
   "id": "da72e34d",
   "metadata": {},
   "outputs": [],
   "source": [
    "from sklearn.metrics import mean_absolute_error\n",
    "\n",
    "baseline_mae = mean_absolute_error(test['value'], test['pred_last_season'])\n",
    "ses_mae = mean_absolute_error(test['value'], test['pred_simple_exp'])\n",
    "\n",
    "print(baseline_mae, ses_mae)"
   ]
  },
  {
   "cell_type": "code",
   "execution_count": null,
   "id": "0bc3e816",
   "metadata": {},
   "outputs": [],
   "source": [
    "fig, ax = plt.subplots()\n",
    "\n",
    "x = ['naive seasonal', 'SES']\n",
    "y = [baseline_mae, ses_mae]\n",
    "\n",
    "ax.bar(x, y, width=0.4)\n",
    "ax.set_xlabel('Models')\n",
    "ax.set_ylabel('MAE')\n",
    "ax.set_ylim(0, 0.5)\n",
    "\n",
    "for index, value in enumerate(y):\n",
    "    plt.text(x=index, y=value + 0.025, s=str(round(value,2)), ha='center')\n",
    "\n",
    "plt.tight_layout()"
   ]
  },
  {
   "cell_type": "markdown",
   "id": "7febbaf4",
   "metadata": {},
   "source": [
    "## Double exponential smoothing "
   ]
  },
  {
   "cell_type": "code",
   "execution_count": null,
   "id": "cc6275ab",
   "metadata": {},
   "outputs": [],
   "source": [
    "from statsmodels.tsa.holtwinters import Holt\n",
    "\n",
    "def rolling_forecast(df, train_len, horizon, window, method):\n",
    "    \n",
    "    total_len = train_len + horizon\n",
    "    end_idx = train_len\n",
    "\n",
    "    if method == 'last_season':\n",
    "        pred_last_season = []\n",
    "        \n",
    "        for i in range(train_len, total_len, window):\n",
    "            last_season = df[:i].iloc[-12:].values\n",
    "            pred_last_season.extend(last_season)\n",
    "            \n",
    "        return pred_last_season\n",
    "    \n",
    "    elif method == 'simple_exp':\n",
    "        pred_simple_exp = []\n",
    "        \n",
    "        for i in range(train_len, total_len, window):\n",
    "            ses = SimpleExpSmoothing(df[:i], initialization_method='estimated').fit()\n",
    "            predictions = ses.forecast(window)\n",
    "            pred_simple_exp.extend(predictions)\n",
    "            \n",
    "        return pred_simple_exp\n",
    "    \n",
    "    elif method == 'double_exp':\n",
    "        # Get predictions from DES\n",
    "    \n",
    "    elif method == 'double_exp_damp':\n",
    "         # Get predictions from DES with damping\n",
    "        \n",
    "        return pred_double_exp_damp"
   ]
  },
  {
   "cell_type": "code",
   "execution_count": null,
   "id": "4b0e58cc",
   "metadata": {},
   "outputs": [],
   "source": [
    "pred_double_exp = rolling_forecast(df['value'], TRAIN_LEN, HORIZON, WINDOW, 'double_exp')\n",
    "pred_double_exp_damp = rolling_forecast(df['value'], TRAIN_LEN, HORIZON, WINDOW, 'double_exp_damp')\n",
    "\n",
    "test.loc[:, 'pred_double_exp'] = pred_double_exp\n",
    "test.loc[:, 'pred_double_exp_damp'] = pred_double_exp_damp\n",
    "\n",
    "test.head()"
   ]
  },
  {
   "cell_type": "code",
   "execution_count": null,
   "id": "38d01334",
   "metadata": {},
   "outputs": [],
   "source": [
    "fig, ax = plt.subplots()\n",
    "\n",
    "ax.plot(df['value'])\n",
    "ax.plot(test['value'], 'b-', label='Actual')\n",
    "ax.plot(test['pred_last_season'], 'r:', label='naive seasonal')\n",
    "ax.plot(test['pred_simple_exp'], 'g-.', label='SES')\n",
    "ax.plot(test['pred_double_exp'], 'k--', label='DES')\n",
    "ax.plot(test['pred_double_exp_damp'], color='orange', label='DES - damped')\n",
    "ax.set_xlabel('Date')\n",
    "ax.set_ylabel('Monthly government expenditure (millions)')\n",
    "ax.axvspan(169, 204, color='#808080', alpha=0.2)\n",
    "ax.legend(loc='best')\n",
    "\n",
    "\n",
    "plt.xticks(np.arange(6, 204, 12), np.arange(1992, 2009, 1))\n",
    "\n",
    "plt.title('Monthly corticosteroid drug subsidy in Australia from 1991 to 2008')\n",
    "\n",
    "fig.autofmt_xdate()\n",
    "plt.tight_layout()"
   ]
  },
  {
   "cell_type": "code",
   "execution_count": null,
   "id": "9dd3831b",
   "metadata": {},
   "outputs": [],
   "source": [
    "des_mae = mean_absolute_error(test['value'], test['pred_double_exp'])\n",
    "des_damp_mae = mean_absolute_error(test['value'], test['pred_double_exp_damp'])"
   ]
  },
  {
   "cell_type": "code",
   "execution_count": null,
   "id": "66fd251a",
   "metadata": {},
   "outputs": [],
   "source": [
    "fig, ax = plt.subplots()\n",
    "\n",
    "x = ['naive seasonal', 'SES', 'DES', 'DES - damped']\n",
    "y = [baseline_mae, ses_mae, des_mae, des_damp_mae]\n",
    "\n",
    "ax.bar(x, y, width=0.4)\n",
    "ax.set_xlabel('Models')\n",
    "ax.set_ylabel('MAE')\n",
    "ax.set_ylim(0, 0.5)\n",
    "\n",
    "for index, value in enumerate(y):\n",
    "    plt.text(x=index, y=value + 0.025, s=str(round(value,2)), ha='center')\n",
    "\n",
    "plt.tight_layout()"
   ]
  },
  {
   "cell_type": "markdown",
   "id": "4512001e",
   "metadata": {},
   "source": [
    "## Triple exponential smoothing"
   ]
  },
  {
   "cell_type": "code",
   "execution_count": null,
   "id": "5110b923",
   "metadata": {},
   "outputs": [],
   "source": [
    "from statsmodels.tsa.holtwinters import ExponentialSmoothing\n",
    "\n",
    "def rolling_forecast(df: pd.DataFrame, train_len: int, horizon: int, window: int, method: str) -> list:\n",
    "    \n",
    "    total_len = train_len + horizon\n",
    "    end_idx = train_len\n",
    "\n",
    "    if method == 'last_season':\n",
    "        pred_last_season = []\n",
    "        \n",
    "        for i in range(train_len, total_len, window):\n",
    "            last_season = df[:i].iloc[-12:].values\n",
    "            pred_last_season.extend(last_season)\n",
    "            \n",
    "        return pred_last_season\n",
    "    \n",
    "    elif method == 'simple_exp':\n",
    "        pred_simple_exp = []\n",
    "        \n",
    "        for i in range(train_len, total_len, window):\n",
    "            ses = SimpleExpSmoothing(df[:i], initialization_method='estimated').fit()\n",
    "            predictions = ses.forecast(window)\n",
    "            pred_simple_exp.extend(predictions)\n",
    "            \n",
    "        return pred_simple_exp\n",
    "    \n",
    "    elif method == 'double_exp':\n",
    "        pred_double_exp = []\n",
    "        \n",
    "        for i in range(train_len, total_len, window):\n",
    "            des = Holt(df[:i], initialization_method='estimated').fit()\n",
    "            predictions = des.forecast(window)\n",
    "            pred_double_exp.extend(predictions)\n",
    "            \n",
    "        return pred_double_exp\n",
    "    \n",
    "    elif method == 'double_exp_damp':\n",
    "        pred_double_exp_damp = []\n",
    "        \n",
    "        for i in range(train_len, total_len, window):\n",
    "            des_damp = Holt(df[:i],damped_trend=True, initialization_method='estimated').fit()\n",
    "            predictions = des_damp.forecast(window)\n",
    "            pred_double_exp_damp.extend(predictions)\n",
    "            \n",
    "        return pred_double_exp_damp\n",
    "    \n",
    "    elif method == 'triple_exp':\n",
    "        # Get prediction from TES\n",
    "\n",
    "        return pred_triple_exp"
   ]
  },
  {
   "cell_type": "code",
   "execution_count": null,
   "id": "6f1fad7c",
   "metadata": {},
   "outputs": [],
   "source": [
    "pred_triple_exp = rolling_forecast(df['value'], TRAIN_LEN, HORIZON, WINDOW, 'triple_exp')\n",
    "\n",
    "test.loc[:, 'pred_triple_exp'] = pred_triple_exp\n",
    "\n",
    "test.head()"
   ]
  },
  {
   "cell_type": "code",
   "execution_count": null,
   "id": "42de7d05",
   "metadata": {},
   "outputs": [],
   "source": [
    "fig, ax = plt.subplots()\n",
    "\n",
    "ax.plot(df['value'])\n",
    "ax.plot(test['value'], 'b-', label='Actual')\n",
    "ax.plot(test['pred_last_season'], 'r:', label='naive seasonal')\n",
    "ax.plot(test['pred_simple_exp'], 'g-.', label='SES')\n",
    "ax.plot(test['pred_double_exp'], 'k--', label='DES')\n",
    "ax.plot(test['pred_double_exp_damp'], color='orange', label='DES - damped')\n",
    "ax.plot(test['pred_triple_exp'], color='yellow', label='TES')\n",
    "ax.set_xlabel('Date')\n",
    "ax.set_ylabel('Monthly government expenditure (millions)')\n",
    "ax.axvspan(169, 204, color='#808080', alpha=0.2)\n",
    "ax.legend(loc='best')\n",
    "\n",
    "\n",
    "plt.xticks(np.arange(6, 204, 12), np.arange(1992, 2009, 1))\n",
    "\n",
    "plt.title('Monthly corticosteroid drug subsidy in Australia from 1991 to 2008')\n",
    "\n",
    "fig.autofmt_xdate()\n",
    "plt.tight_layout()"
   ]
  },
  {
   "cell_type": "code",
   "execution_count": null,
   "id": "66b90041",
   "metadata": {},
   "outputs": [],
   "source": [
    "tes_mae = mean_absolute_error(test['value'], test['pred_triple_exp'])"
   ]
  },
  {
   "cell_type": "code",
   "execution_count": null,
   "id": "87603519",
   "metadata": {},
   "outputs": [],
   "source": [
    "fig, ax = plt.subplots()\n",
    "\n",
    "x = ['naive seasonal', 'SES', 'DES', 'DES - damped', 'TES']\n",
    "y = [baseline_mae, ses_mae, des_mae, des_damp_mae, tes_mae]\n",
    "\n",
    "ax.bar(x, y, width=0.4)\n",
    "ax.set_xlabel('Models')\n",
    "ax.set_ylabel('MAE')\n",
    "ax.set_ylim(0, 0.5)\n",
    "\n",
    "for index, value in enumerate(y):\n",
    "    plt.text(x=index, y=value + 0.025, s=str(round(value,2)), ha='center')\n",
    "\n",
    "plt.tight_layout()"
   ]
  },
  {
   "cell_type": "code",
   "execution_count": null,
   "id": "925f5288",
   "metadata": {},
   "outputs": [],
   "source": []
  }
 ],
 "metadata": {
  "kernelspec": {
   "display_name": "Python 3",
   "language": "python",
   "name": "python3"
  },
  "language_info": {
   "codemirror_mode": {
    "name": "ipython",
    "version": 3
   },
   "file_extension": ".py",
   "mimetype": "text/x-python",
   "name": "python",
   "nbconvert_exporter": "python",
   "pygments_lexer": "ipython3",
   "version": "3.7.13"
  }
 },
 "nbformat": 4,
 "nbformat_minor": 5
}

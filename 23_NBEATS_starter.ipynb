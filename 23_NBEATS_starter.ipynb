{
 "cells": [
  {
   "cell_type": "markdown",
   "id": "3281235c",
   "metadata": {},
   "source": [
    "# N-BEATS "
   ]
  },
  {
   "cell_type": "code",
   "execution_count": null,
   "id": "6f95f6f6",
   "metadata": {},
   "outputs": [],
   "source": [
    "import pandas as pd\n",
    "import numpy as np\n",
    "import datetime\n",
    "import matplotlib.pyplot as plt\n",
    "\n",
    "from darts import TimeSeries\n",
    "\n",
    "import warnings\n",
    "warnings.filterwarnings('ignore')\n",
    "\n",
    "%matplotlib inline"
   ]
  },
  {
   "cell_type": "code",
   "execution_count": null,
   "id": "22d6a336",
   "metadata": {},
   "outputs": [],
   "source": [
    "plt.rcParams[\"figure.figsize\"] = (9,6)"
   ]
  },
  {
   "cell_type": "code",
   "execution_count": null,
   "id": "25a1887b",
   "metadata": {},
   "outputs": [],
   "source": [
    "df = pd.read_csv('data/daily_min_temp.csv')\n",
    "\n",
    "df.head()"
   ]
  },
  {
   "cell_type": "code",
   "execution_count": null,
   "id": "3c55245c",
   "metadata": {},
   "outputs": [],
   "source": []
  },
  {
   "cell_type": "code",
   "execution_count": null,
   "id": "5496cf57",
   "metadata": {},
   "outputs": [],
   "source": []
  },
  {
   "cell_type": "code",
   "execution_count": null,
   "id": "31469cb0",
   "metadata": {},
   "outputs": [],
   "source": []
  },
  {
   "cell_type": "code",
   "execution_count": null,
   "id": "71b8b675",
   "metadata": {},
   "outputs": [],
   "source": [
    "print(len(series))\n",
    "print(len(df))"
   ]
  },
  {
   "cell_type": "code",
   "execution_count": null,
   "id": "698ec967",
   "metadata": {},
   "outputs": [],
   "source": []
  },
  {
   "cell_type": "markdown",
   "id": "9ce1a0dd",
   "metadata": {},
   "source": [
    "## Train/test split "
   ]
  },
  {
   "cell_type": "code",
   "execution_count": null,
   "id": "e4884ad1",
   "metadata": {},
   "outputs": [],
   "source": [
    "# keep the last 365 days for the test set\n",
    "\n"
   ]
  },
  {
   "cell_type": "markdown",
   "id": "babd8145",
   "metadata": {},
   "source": [
    "## Baseline "
   ]
  },
  {
   "cell_type": "code",
   "execution_count": null,
   "id": "5c2067e2",
   "metadata": {},
   "outputs": [],
   "source": []
  },
  {
   "cell_type": "code",
   "execution_count": null,
   "id": "bbe1618d",
   "metadata": {},
   "outputs": [],
   "source": []
  },
  {
   "cell_type": "markdown",
   "id": "0197e22f",
   "metadata": {},
   "source": [
    "## N-BEATS "
   ]
  },
  {
   "cell_type": "code",
   "execution_count": null,
   "id": "85548c54",
   "metadata": {},
   "outputs": [],
   "source": []
  },
  {
   "cell_type": "code",
   "execution_count": null,
   "id": "2d20e3a4",
   "metadata": {},
   "outputs": [],
   "source": []
  },
  {
   "cell_type": "markdown",
   "id": "d7d9495f",
   "metadata": {},
   "source": [
    "### Evaluation"
   ]
  },
  {
   "cell_type": "code",
   "execution_count": null,
   "id": "445368e3",
   "metadata": {},
   "outputs": [],
   "source": []
  },
  {
   "cell_type": "code",
   "execution_count": null,
   "id": "3f5ff414",
   "metadata": {},
   "outputs": [],
   "source": [
    "fig, ax = plt.subplots()\n",
    "\n",
    "x = ['Baseline', 'N-BEATS']\n",
    "y = [naive_mae, nbeats_mae]\n",
    "\n",
    "ax.bar(x, y, width=0.4)\n",
    "ax.set_xlabel('Models')\n",
    "ax.set_ylabel('MAE')\n",
    "ax.grid(False)\n",
    "\n",
    "for index, value in enumerate(y):\n",
    "    plt.text(x=index, y=value + 0.05, s=str(round(value,2)), ha='center')\n",
    "\n",
    "plt.tight_layout()"
   ]
  },
  {
   "cell_type": "markdown",
   "id": "ccef17af",
   "metadata": {},
   "source": [
    "### Plot predictions "
   ]
  },
  {
   "cell_type": "code",
   "execution_count": null,
   "id": "61480188",
   "metadata": {},
   "outputs": [],
   "source": [
    "test.plot(label='Actual')\n",
    "pred_naive.plot(label='Baseline')\n",
    "pred_nbeats.plot(label='N-BEATS')"
   ]
  },
  {
   "cell_type": "markdown",
   "id": "6806dcfa",
   "metadata": {},
   "source": [
    "## N-BEATS with covariates "
   ]
  },
  {
   "cell_type": "code",
   "execution_count": null,
   "id": "281a443d",
   "metadata": {},
   "outputs": [],
   "source": []
  },
  {
   "cell_type": "code",
   "execution_count": null,
   "id": "9f8aa5c8",
   "metadata": {},
   "outputs": [],
   "source": []
  },
  {
   "cell_type": "code",
   "execution_count": null,
   "id": "38e469f7",
   "metadata": {},
   "outputs": [],
   "source": []
  },
  {
   "cell_type": "code",
   "execution_count": null,
   "id": "0cceb6df",
   "metadata": {},
   "outputs": [],
   "source": []
  },
  {
   "cell_type": "code",
   "execution_count": null,
   "id": "36eb5de3",
   "metadata": {},
   "outputs": [],
   "source": []
  },
  {
   "cell_type": "markdown",
   "id": "2eaba9ba",
   "metadata": {},
   "source": [
    "### Evaluation "
   ]
  },
  {
   "cell_type": "code",
   "execution_count": null,
   "id": "75b383c6",
   "metadata": {},
   "outputs": [],
   "source": [
    "mae_nbeats_cov = mae(test, pred_nbeats_cov)"
   ]
  },
  {
   "cell_type": "code",
   "execution_count": null,
   "id": "a4e953c9",
   "metadata": {},
   "outputs": [],
   "source": [
    "fig, ax = plt.subplots()\n",
    "\n",
    "x = ['Baseline', 'N-BEATS', 'N-BEATS+cov']\n",
    "y = [naive_mae, nbeats_mae, mae_nbeats_cov]\n",
    "\n",
    "ax.bar(x, y, width=0.4)\n",
    "ax.set_xlabel('Models')\n",
    "ax.set_ylabel('MAE')\n",
    "ax.grid(False)\n",
    "\n",
    "for index, value in enumerate(y):\n",
    "    plt.text(x=index, y=value + 0.05, s=str(round(value,2)), ha='center')\n",
    "\n",
    "plt.tight_layout()"
   ]
  },
  {
   "cell_type": "markdown",
   "id": "e6bdcb7d",
   "metadata": {},
   "source": [
    "### Plot predictions "
   ]
  },
  {
   "cell_type": "code",
   "execution_count": null,
   "id": "a9749242",
   "metadata": {},
   "outputs": [],
   "source": [
    "test.plot(label='Actual')\n",
    "pred_nbeats_cov.plot(label='N-BEATS+cov')\n",
    "pred_nbeats.plot(label='N-BEATS')"
   ]
  },
  {
   "cell_type": "code",
   "execution_count": null,
   "id": "ab0dddd1",
   "metadata": {},
   "outputs": [],
   "source": []
  }
 ],
 "metadata": {
  "kernelspec": {
   "display_name": "Python 3",
   "language": "python",
   "name": "python3"
  },
  "language_info": {
   "codemirror_mode": {
    "name": "ipython",
    "version": 3
   },
   "file_extension": ".py",
   "mimetype": "text/x-python",
   "name": "python",
   "nbconvert_exporter": "python",
   "pygments_lexer": "ipython3",
   "version": "3.7.15"
  }
 },
 "nbformat": 4,
 "nbformat_minor": 5
}

{
 "cells": [
  {
   "cell_type": "markdown",
   "id": "32e0a8f7",
   "metadata": {},
   "source": [
    "# Prophet "
   ]
  },
  {
   "cell_type": "code",
   "execution_count": null,
   "id": "bc25191c",
   "metadata": {},
   "outputs": [],
   "source": [
    "import numpy as np\n",
    "import pandas as pd\n",
    "import matplotlib.pyplot as plt\n",
    "from fbprophet import Prophet\n",
    "\n",
    "import warnings\n",
    "warnings.filterwarnings('ignore')"
   ]
  },
  {
   "cell_type": "code",
   "execution_count": null,
   "id": "8c8c7881",
   "metadata": {},
   "outputs": [],
   "source": [
    "plt.rcParams[\"figure.figsize\"] = (9,6)"
   ]
  },
  {
   "cell_type": "markdown",
   "id": "5be861c2",
   "metadata": {},
   "source": [
    "## Basic forecasting with Prophet "
   ]
  },
  {
   "cell_type": "markdown",
   "id": "8e3bcd5b",
   "metadata": {},
   "source": [
    "Source of data: https://archive.ics.uci.edu/ml/datasets/Individual+household+electric+power+consumption"
   ]
  },
  {
   "cell_type": "code",
   "execution_count": null,
   "id": "ec296fcc",
   "metadata": {},
   "outputs": [],
   "source": [
    "df = pd.read_csv('data/household_power_consumption.csv')\n",
    "\n",
    "df.head()"
   ]
  },
  {
   "cell_type": "code",
   "execution_count": null,
   "id": "d07b28bf",
   "metadata": {},
   "outputs": [],
   "source": [
    "fig, ax = plt.subplots()\n",
    "\n",
    "ax.plot(df['Global_active_power'])\n",
    "ax.set_xlabel('Date')\n",
    "ax.set_ylabel('Power consumption (kW)')\n",
    "\n",
    "plt.xticks(np.arange(6, 999, 96), ['Dec 17', 'Dec 21', 'Dec 25', 'Dec 29', 'Jan 2', 'Jan 6', 'Jan 10', 'Jan 14', 'Jan 18', 'Jan 22', 'Jan 26'])\n",
    "\n",
    "fig.autofmt_xdate()\n",
    "plt.tight_layout()"
   ]
  },
  {
   "cell_type": "markdown",
   "id": "c3f65e6c",
   "metadata": {},
   "source": [
    "### Rename columns appropriately "
   ]
  },
  {
   "cell_type": "code",
   "execution_count": null,
   "id": "c2dc2684",
   "metadata": {},
   "outputs": [],
   "source": [
    "# Rename the columns. The date column must be \"ds\" and the value column must be \"y\"\n"
   ]
  },
  {
   "cell_type": "markdown",
   "id": "0627332d",
   "metadata": {},
   "source": [
    "### Train/test split "
   ]
  },
  {
   "cell_type": "code",
   "execution_count": null,
   "id": "d373215e",
   "metadata": {},
   "outputs": [],
   "source": [
    "# Keep the last 168 data points for the test set\n"
   ]
  },
  {
   "cell_type": "markdown",
   "id": "a44a7cb3",
   "metadata": {},
   "source": [
    "### Initialize model and fit "
   ]
  },
  {
   "cell_type": "code",
   "execution_count": null,
   "id": "30bd29e5",
   "metadata": {},
   "outputs": [],
   "source": []
  },
  {
   "cell_type": "markdown",
   "id": "35332774",
   "metadata": {},
   "source": [
    "### Make *future* DataFrame "
   ]
  },
  {
   "cell_type": "code",
   "execution_count": null,
   "id": "c1192b40",
   "metadata": {},
   "outputs": [],
   "source": []
  },
  {
   "cell_type": "markdown",
   "id": "5bdd4103",
   "metadata": {},
   "source": [
    "### Forecast "
   ]
  },
  {
   "cell_type": "code",
   "execution_count": null,
   "id": "4177948f",
   "metadata": {},
   "outputs": [],
   "source": []
  },
  {
   "cell_type": "code",
   "execution_count": null,
   "id": "0ba5a737",
   "metadata": {},
   "outputs": [],
   "source": []
  },
  {
   "cell_type": "code",
   "execution_count": null,
   "id": "6641f334",
   "metadata": {},
   "outputs": [],
   "source": []
  },
  {
   "cell_type": "markdown",
   "id": "548d7663",
   "metadata": {},
   "source": [
    "### Evaluate against a baseline"
   ]
  },
  {
   "cell_type": "code",
   "execution_count": null,
   "id": "2e2e023f",
   "metadata": {},
   "outputs": [],
   "source": [
    "\n"
   ]
  },
  {
   "cell_type": "code",
   "execution_count": null,
   "id": "687fc5c7",
   "metadata": {},
   "outputs": [],
   "source": []
  },
  {
   "cell_type": "code",
   "execution_count": null,
   "id": "7ee458b5",
   "metadata": {},
   "outputs": [],
   "source": [
    "from sklearn.metrics import mean_absolute_error\n",
    "\n",
    "prophet_mae = mean_absolute_error(test['y'], test['yhat'])\n",
    "baseline_mae = mean_absolute_error(test['y'], test['baseline'])"
   ]
  },
  {
   "cell_type": "code",
   "execution_count": null,
   "id": "8fd0f917",
   "metadata": {},
   "outputs": [],
   "source": [
    "fig, ax = plt.subplots()\n",
    "\n",
    "x = ['Baseline', 'Prophet']\n",
    "y = [baseline_mae, prophet_mae]\n",
    "\n",
    "ax.bar(x, y, width=0.4)\n",
    "ax.set_xlabel('Models')\n",
    "ax.set_ylabel('MAE')\n",
    "ax.set_ylim(0, max(y) + 5)\n",
    "\n",
    "for index, value in enumerate(y):\n",
    "    plt.text(x=index, y=value + 2, s=str(round(value,2)), ha='center')\n",
    "\n",
    "plt.tight_layout()"
   ]
  },
  {
   "cell_type": "code",
   "execution_count": null,
   "id": "d363b9d3",
   "metadata": {},
   "outputs": [],
   "source": [
    "fig, ax = plt.subplots()\n",
    "\n",
    "ax.plot(train['y'])\n",
    "ax.plot(test['y'], 'b-', label='Actual')\n",
    "ax.plot(test['yhat'], color='darkorange', ls='--', lw=2, label='Prophet')\n",
    "ax.plot(test['baseline'], 'k:', label='Baseline')\n",
    "\n",
    "ax.set_xlabel('Date')\n",
    "ax.set_ylabel('Power consumption (kW)')\n",
    "\n",
    "ax.axvspan(831, 998, color='#808080', alpha=0.1)\n",
    "\n",
    "ax.legend(loc='best')\n",
    "\n",
    "plt.xticks(np.arange(6, 999, 96), ['Dec 17', 'Dec 21', 'Dec 25', 'Dec 29', 'Jan 2', 'Jan 6', 'Jan 10', 'Jan 14', 'Jan 18', 'Jan 22', 'Jan 26'])\n",
    "\n",
    "plt.fill_between(x=test.index, y1=test['yhat_lower'], y2=test['yhat_upper'], color='lightblue')\n",
    "\n",
    "plt.xlim(800, 998)\n",
    "\n",
    "fig.autofmt_xdate()\n",
    "plt.tight_layout()"
   ]
  },
  {
   "cell_type": "markdown",
   "id": "1636aee8",
   "metadata": {},
   "source": [
    "## Prophet's advanced functionalities "
   ]
  },
  {
   "cell_type": "markdown",
   "id": "32f05acd",
   "metadata": {},
   "source": [
    "### Visualizations "
   ]
  },
  {
   "cell_type": "code",
   "execution_count": null,
   "id": "9dd0da6a",
   "metadata": {},
   "outputs": [],
   "source": []
  },
  {
   "cell_type": "markdown",
   "id": "7865fe24",
   "metadata": {},
   "source": [
    "#### Plot components "
   ]
  },
  {
   "cell_type": "code",
   "execution_count": null,
   "id": "f4053bcb",
   "metadata": {},
   "outputs": [],
   "source": []
  },
  {
   "cell_type": "markdown",
   "id": "670bd89b",
   "metadata": {},
   "source": [
    "#### Show trend changepoints "
   ]
  },
  {
   "cell_type": "code",
   "execution_count": null,
   "id": "24a29cf2",
   "metadata": {},
   "outputs": [],
   "source": []
  },
  {
   "cell_type": "markdown",
   "id": "7b8da584",
   "metadata": {},
   "source": [
    "#### Plot seasonal components separately "
   ]
  },
  {
   "cell_type": "code",
   "execution_count": null,
   "id": "49b22214",
   "metadata": {},
   "outputs": [],
   "source": []
  },
  {
   "cell_type": "markdown",
   "id": "33f692c5",
   "metadata": {},
   "source": [
    "#### Tune seasonality's sensitivity "
   ]
  },
  {
   "cell_type": "code",
   "execution_count": null,
   "id": "b4d5885b",
   "metadata": {},
   "outputs": [],
   "source": []
  },
  {
   "cell_type": "markdown",
   "id": "66fb45b4",
   "metadata": {},
   "source": [
    "### Cross-validation and performance metrics "
   ]
  },
  {
   "cell_type": "code",
   "execution_count": null,
   "id": "20deb0fc",
   "metadata": {},
   "outputs": [],
   "source": []
  },
  {
   "cell_type": "code",
   "execution_count": null,
   "id": "9249b234",
   "metadata": {},
   "outputs": [],
   "source": []
  },
  {
   "cell_type": "code",
   "execution_count": null,
   "id": "18b349e3",
   "metadata": {},
   "outputs": [],
   "source": []
  },
  {
   "cell_type": "markdown",
   "id": "158b935c",
   "metadata": {},
   "source": [
    "### Hyperparameter tuning "
   ]
  },
  {
   "cell_type": "code",
   "execution_count": null,
   "id": "c4d6d3b4",
   "metadata": {},
   "outputs": [],
   "source": []
  },
  {
   "cell_type": "code",
   "execution_count": null,
   "id": "c9d61f0b",
   "metadata": {},
   "outputs": [],
   "source": []
  },
  {
   "cell_type": "code",
   "execution_count": null,
   "id": "256cb5e8",
   "metadata": {},
   "outputs": [],
   "source": []
  }
 ],
 "metadata": {
  "kernelspec": {
   "display_name": "Python 3",
   "language": "python",
   "name": "python3"
  },
  "language_info": {
   "codemirror_mode": {
    "name": "ipython",
    "version": 3
   },
   "file_extension": ".py",
   "mimetype": "text/x-python",
   "name": "python",
   "nbconvert_exporter": "python",
   "pygments_lexer": "ipython3",
   "version": "3.7.13"
  }
 },
 "nbformat": 4,
 "nbformat_minor": 5
}

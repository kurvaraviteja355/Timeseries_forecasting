{
 "cells": [
  {
   "cell_type": "markdown",
   "id": "acaa2944",
   "metadata": {},
   "source": [
    "# N-HiTS "
   ]
  },
  {
   "cell_type": "code",
   "execution_count": null,
   "id": "984ef39e",
   "metadata": {},
   "outputs": [],
   "source": [
    "import pandas as pd\n",
    "import numpy as np\n",
    "import datetime\n",
    "import matplotlib.pyplot as plt\n",
    "\n",
    "from darts import TimeSeries\n",
    "\n",
    "import warnings\n",
    "warnings.filterwarnings('ignore')\n",
    "\n",
    "%matplotlib inline"
   ]
  },
  {
   "cell_type": "code",
   "execution_count": null,
   "id": "4d962a6e",
   "metadata": {},
   "outputs": [],
   "source": [
    "plt.rcParams[\"figure.figsize\"] = (9,6)"
   ]
  },
  {
   "cell_type": "code",
   "execution_count": null,
   "id": "47a0129f",
   "metadata": {},
   "outputs": [],
   "source": [
    "df = pd.read_csv('data/daily_min_temp.csv')\n",
    "\n",
    "df.head()"
   ]
  },
  {
   "cell_type": "code",
   "execution_count": null,
   "id": "cc9c481d",
   "metadata": {},
   "outputs": [],
   "source": [
    "df['Date'] = pd.to_datetime(df['Date'])"
   ]
  },
  {
   "cell_type": "code",
   "execution_count": null,
   "id": "dda25f43",
   "metadata": {},
   "outputs": [],
   "source": [
    "series = TimeSeries.from_dataframe(df, time_col='Date', value_cols=['Temp'], fill_missing_dates=True, freq='d')"
   ]
  },
  {
   "cell_type": "code",
   "execution_count": null,
   "id": "a0dc1233",
   "metadata": {},
   "outputs": [],
   "source": [
    "from darts.utils.missing_values import fill_missing_values\n",
    "\n",
    "full_series = fill_missing_values(series)"
   ]
  },
  {
   "cell_type": "code",
   "execution_count": null,
   "id": "1ab5d3de",
   "metadata": {},
   "outputs": [],
   "source": [
    "series.plot()"
   ]
  },
  {
   "cell_type": "markdown",
   "id": "18c5c91a",
   "metadata": {},
   "source": [
    "## Train/test split "
   ]
  },
  {
   "cell_type": "code",
   "execution_count": null,
   "id": "6accc0c6",
   "metadata": {},
   "outputs": [],
   "source": [
    "train, test = full_series[:-365], full_series[-365:]\n",
    "\n",
    "train.plot(label='train')\n",
    "test.plot(label='test')"
   ]
  },
  {
   "cell_type": "markdown",
   "id": "65c0ab04",
   "metadata": {},
   "source": [
    "## N-HiTS "
   ]
  },
  {
   "cell_type": "code",
   "execution_count": null,
   "id": "0e8a4465",
   "metadata": {},
   "outputs": [],
   "source": []
  },
  {
   "cell_type": "code",
   "execution_count": null,
   "id": "6f4d6d84",
   "metadata": {},
   "outputs": [],
   "source": []
  },
  {
   "cell_type": "markdown",
   "id": "6c411eac",
   "metadata": {},
   "source": [
    "### Evaluation "
   ]
  },
  {
   "cell_type": "code",
   "execution_count": null,
   "id": "da87591a",
   "metadata": {},
   "outputs": [],
   "source": [
    "from darts.metrics import mae\n",
    "\n",
    "mae_nhits = mae(test, pred_nhits)"
   ]
  },
  {
   "cell_type": "code",
   "execution_count": null,
   "id": "aec1d4e5",
   "metadata": {},
   "outputs": [],
   "source": [
    "fig, ax = plt.subplots()\n",
    "\n",
    "x = ['Baseline', 'N-BEATS', 'N-BEATS+cov', 'N-HiTS']\n",
    "y = [2.87, 2.05, 2.10, mae_nhits]\n",
    "\n",
    "ax.bar(x, y, width=0.4)\n",
    "ax.set_xlabel('Models')\n",
    "ax.set_ylabel('MAE')\n",
    "ax.grid(False)\n",
    "\n",
    "for index, value in enumerate(y):\n",
    "    plt.text(x=index, y=value + 0.05, s=str(round(value,2)), ha='center')\n",
    "\n",
    "plt.tight_layout()"
   ]
  },
  {
   "cell_type": "markdown",
   "id": "dda23c01",
   "metadata": {},
   "source": [
    "## N-HiTS with covariates "
   ]
  },
  {
   "cell_type": "code",
   "execution_count": null,
   "id": "93773556",
   "metadata": {},
   "outputs": [],
   "source": []
  },
  {
   "cell_type": "code",
   "execution_count": null,
   "id": "778a953f",
   "metadata": {},
   "outputs": [],
   "source": []
  },
  {
   "cell_type": "code",
   "execution_count": null,
   "id": "2e4b4ac3",
   "metadata": {},
   "outputs": [],
   "source": []
  },
  {
   "cell_type": "code",
   "execution_count": null,
   "id": "ae247be9",
   "metadata": {},
   "outputs": [],
   "source": []
  },
  {
   "cell_type": "markdown",
   "id": "ad1920a5",
   "metadata": {},
   "source": [
    "### Evaluation "
   ]
  },
  {
   "cell_type": "code",
   "execution_count": null,
   "id": "99b1efd8",
   "metadata": {},
   "outputs": [],
   "source": [
    "mae_nhits_cov = mae(test, pred_nhits_cov)"
   ]
  },
  {
   "cell_type": "code",
   "execution_count": null,
   "id": "a14e8f7a",
   "metadata": {},
   "outputs": [],
   "source": [
    "fig, ax = plt.subplots()\n",
    "\n",
    "x = ['Baseline', 'N-BEATS', 'N-BEATS+cov', 'N-HiTS', 'N-HiTS+cov']\n",
    "y = [2.87, 2.05, 2.10, mae_nhits, mae_nhits_cov]\n",
    "\n",
    "ax.bar(x, y, width=0.4)\n",
    "ax.set_xlabel('Models')\n",
    "ax.set_ylabel('MAE')\n",
    "ax.grid(False)\n",
    "\n",
    "for index, value in enumerate(y):\n",
    "    plt.text(x=index, y=value + 0.05, s=str(round(value,2)), ha='center')\n",
    "\n",
    "plt.tight_layout()"
   ]
  },
  {
   "cell_type": "markdown",
   "id": "95866c07",
   "metadata": {},
   "source": [
    "### Plot predictions "
   ]
  },
  {
   "cell_type": "code",
   "execution_count": null,
   "id": "319cbfe9",
   "metadata": {},
   "outputs": [],
   "source": [
    "test.plot(label='Actual')\n",
    "pred_nhits_cov.plot(label='N-HiTS+cov')"
   ]
  },
  {
   "cell_type": "code",
   "execution_count": null,
   "id": "8c7e1834",
   "metadata": {},
   "outputs": [],
   "source": []
  }
 ],
 "metadata": {
  "kernelspec": {
   "display_name": "Python 3",
   "language": "python",
   "name": "python3"
  },
  "language_info": {
   "codemirror_mode": {
    "name": "ipython",
    "version": 3
   },
   "file_extension": ".py",
   "mimetype": "text/x-python",
   "name": "python",
   "nbconvert_exporter": "python",
   "pygments_lexer": "ipython3",
   "version": "3.7.15"
  }
 },
 "nbformat": 4,
 "nbformat_minor": 5
}

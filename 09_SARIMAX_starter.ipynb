{
 "cells": [
  {
   "cell_type": "markdown",
   "id": "635dfaca",
   "metadata": {},
   "source": [
    "# SARIMAX model "
   ]
  },
  {
   "cell_type": "code",
   "execution_count": null,
   "id": "eef8c903",
   "metadata": {},
   "outputs": [],
   "source": [
    "from statsmodels.stats.diagnostic import acorr_ljungbox\n",
    "from statsmodels.tsa.statespace.sarimax import SARIMAX\n",
    "from statsmodels.tsa.stattools import adfuller\n",
    "from tqdm import tqdm_notebook\n",
    "from itertools import product\n",
    "\n",
    "import matplotlib.pyplot as plt\n",
    "import statsmodels.api as sm\n",
    "import pandas as pd\n",
    "import numpy as np\n",
    "\n",
    "import warnings\n",
    "warnings.filterwarnings('ignore')\n",
    "\n",
    "%matplotlib inline"
   ]
  },
  {
   "cell_type": "code",
   "execution_count": null,
   "id": "be8effb9",
   "metadata": {},
   "outputs": [],
   "source": [
    "plt.rcParams[\"figure.figsize\"] = (9,6)"
   ]
  },
  {
   "cell_type": "markdown",
   "id": "56e0fd81",
   "metadata": {},
   "source": [
    "Source: Statistics Canada. Table 32-10-0077-01  [Farm product prices, crops and livestock](https://www150.statcan.gc.ca/t1/tbl1/en/cv.action?pid=3210007701)"
   ]
  },
  {
   "cell_type": "code",
   "execution_count": null,
   "id": "8ab25b0b",
   "metadata": {},
   "outputs": [],
   "source": []
  },
  {
   "cell_type": "code",
   "execution_count": null,
   "id": "12dc36c1",
   "metadata": {},
   "outputs": [],
   "source": [
    "fig, ax = plt.subplots()\n",
    "\n",
    "ax.plot(df['Cattle'])\n",
    "ax.set_xlabel('Date')\n",
    "ax.set_ylabel('$ / hundredweight')\n",
    "\n",
    "plt.xticks(np.arange(0, 453, 24), np.arange(1985, 2023, 2))\n",
    "\n",
    "fig.autofmt_xdate()\n",
    "plt.tight_layout()"
   ]
  },
  {
   "cell_type": "code",
   "execution_count": null,
   "id": "cccaecef",
   "metadata": {},
   "outputs": [],
   "source": [
    "fig, axes = plt.subplots(nrows=2, ncols=1, dpi=300, figsize=(12,9))\n",
    "\n",
    "for i, ax in enumerate(axes.flatten()):\n",
    "    data = df[df.columns[i+1]]\n",
    "    \n",
    "    ax.plot(data, color='black', linewidth=1)\n",
    "    ax.set_title(df.columns[i+1])\n",
    "    ax.xaxis.set_ticks_position('none')\n",
    "    ax.yaxis.set_ticks_position('none')\n",
    "    ax.spines['top'].set_alpha(0)\n",
    "    ax.tick_params(labelsize=6)\n",
    "\n",
    "plt.setp(axes, xticks=np.arange(0, 453, 24), xticklabels=np.arange(1985, 2022, 2))\n",
    "\n",
    "fig.autofmt_xdate()\n",
    "\n",
    "plt.tight_layout()"
   ]
  },
  {
   "cell_type": "markdown",
   "id": "0a3acd25",
   "metadata": {},
   "source": [
    "## Forecasting with SARIMAX "
   ]
  },
  {
   "cell_type": "code",
   "execution_count": null,
   "id": "54801649",
   "metadata": {},
   "outputs": [],
   "source": []
  },
  {
   "cell_type": "markdown",
   "id": "115c2047",
   "metadata": {},
   "source": [
    "### Check for stationarity "
   ]
  },
  {
   "cell_type": "code",
   "execution_count": null,
   "id": "b00f285b",
   "metadata": {},
   "outputs": [],
   "source": [
    "\n",
    "print(f'ADF Statistic: {ad_fuller_result[0]}')\n",
    "print(f'p-value: {ad_fuller_result[1]}')"
   ]
  },
  {
   "cell_type": "code",
   "execution_count": null,
   "id": "6c1e84f0",
   "metadata": {},
   "outputs": [],
   "source": [
    "# Difference the series\n",
    "\n",
    "# Run the ADF test\n",
    "\n",
    "print(f'ADF Statistic: {ad_fuller_result[0]}')\n",
    "print(f'p-value: {ad_fuller_result[1]}')"
   ]
  },
  {
   "cell_type": "markdown",
   "id": "f515935a",
   "metadata": {},
   "source": [
    "### Train/test split "
   ]
  },
  {
   "cell_type": "code",
   "execution_count": null,
   "id": "a72570cb",
   "metadata": {},
   "outputs": [],
   "source": [
    "fig, ax = plt.subplots()\n",
    "\n",
    "ax.plot(df['Cattle'])\n",
    "ax.set_xlabel('Date')\n",
    "ax.set_ylabel('$ / hundredweight')\n",
    "ax.axvspan(406, 453, color='#808080', alpha=0.2)\n",
    "\n",
    "plt.xticks(np.arange(0, 453, 24), np.arange(1985, 2023, 2))\n",
    "\n",
    "fig.autofmt_xdate()\n",
    "plt.tight_layout()"
   ]
  },
  {
   "cell_type": "code",
   "execution_count": null,
   "id": "5c372f23",
   "metadata": {},
   "outputs": [],
   "source": [
    "# Keep the last 48 time steps for the test set\n",
    "\n"
   ]
  },
  {
   "cell_type": "markdown",
   "id": "fef0a54a",
   "metadata": {},
   "source": [
    "### Model selection with AIC "
   ]
  },
  {
   "cell_type": "code",
   "execution_count": null,
   "id": "3c5af25a",
   "metadata": {},
   "outputs": [],
   "source": [
    "def SARIMAX_gridsearch(endog, exog, min_p, max_p, min_q, max_q, min_P, max_P, min_Q, max_Q, d, D, s):\n",
    "    \n",
    "    all_p = range(min_p, max_p+1, 1)\n",
    "    all_q = range(min_q, max_q+1, 1)\n",
    "    all_P = range(min_P, max_P+1, 1)\n",
    "    all_Q = range(min_Q, max_Q+1, 1)\n",
    "    \n",
    "    all_orders = list(product(all_p, all_q, all_P, all_Q))\n",
    "    \n",
    "    print(f'Fitting {len(all_orders)} unique models')\n",
    "    \n",
    "    results = []\n",
    "    \n",
    "    for order in tqdm_notebook(all_orders):\n",
    "        try: \n",
    "            # Fit a SARIMAX model\n",
    "            \n",
    "        except:\n",
    "            continue\n",
    "            \n",
    "        results.append([order, model.aic])\n",
    "        \n",
    "    result_df = pd.DataFrame(results)\n",
    "    result_df.columns = ['(p,q,P,Q)', 'AIC']\n",
    "    \n",
    "    #Sort in ascending order, lower AIC is better\n",
    "    result_df = result_df.sort_values(by='AIC', ascending=True).reset_index(drop=True)\n",
    "    \n",
    "    return result_df"
   ]
  },
  {
   "cell_type": "code",
   "execution_count": null,
   "id": "b8af5e0f",
   "metadata": {},
   "outputs": [],
   "source": []
  },
  {
   "cell_type": "code",
   "execution_count": null,
   "id": "955fa647",
   "metadata": {},
   "outputs": [],
   "source": []
  },
  {
   "cell_type": "markdown",
   "id": "6de60211",
   "metadata": {},
   "source": [
    "### Residuals analysis "
   ]
  },
  {
   "cell_type": "code",
   "execution_count": null,
   "id": "522481bb",
   "metadata": {},
   "outputs": [],
   "source": []
  },
  {
   "cell_type": "code",
   "execution_count": null,
   "id": "c26d417b",
   "metadata": {},
   "outputs": [],
   "source": [
    "def ljung_box_test(residuals, is_seasonal, period):\n",
    "    \n",
    "    if is_seasonal:\n",
    "        lb_df = acorr_ljungbox(residuals, period=period)\n",
    "    else:\n",
    "        max_lag = min([10, len(residuals)/5])\n",
    "        \n",
    "        lb_df = acorr_ljungbox(residuals, np.arange(1, max_lag+1, 1))\n",
    "\n",
    "    fig, ax = plt.subplots()\n",
    "    ax.plot(lb_df['lb_pvalue'], 'b-', label='p-values')\n",
    "    ax.hlines(y=0.05, xmin=1, xmax=len(lb_df), color='black')\n",
    "    plt.tight_layout()\n",
    "    \n",
    "    if all(pvalue > 0.05 for pvalue in lb_df['lb_pvalue']):\n",
    "        print('All values are above 0.05. We fail to reject the null hypothesis. The residuals are uncorrelated')\n",
    "    else:\n",
    "        print('At least one p-value is smaller than 0.05')"
   ]
  },
  {
   "cell_type": "code",
   "execution_count": null,
   "id": "9d12ce06",
   "metadata": {},
   "outputs": [],
   "source": []
  },
  {
   "cell_type": "markdown",
   "id": "e392af8a",
   "metadata": {},
   "source": [
    "### Forecasting "
   ]
  },
  {
   "cell_type": "code",
   "execution_count": null,
   "id": "707b7e21",
   "metadata": {},
   "outputs": [],
   "source": [
    "def rolling_predictions(endog, exog, train_len, horizon, window, method):\n",
    "    \n",
    "    TOTAL_LEN = train_len + horizon\n",
    "    \n",
    "    if method == 'mean':\n",
    "        pred_mean = []\n",
    "        \n",
    "        for i in range(train_len, TOTAL_LEN, window):\n",
    "            mean = np.mean(endog[:i].values)\n",
    "            pred_mean.extend(mean for _ in range(window))\n",
    "        \n",
    "        return pred_mean[:horizon]\n",
    "\n",
    "    elif method == 'last':\n",
    "        pred_last_value = []\n",
    "        \n",
    "        for i in range(train_len, TOTAL_LEN, window):\n",
    "            last_value = endog[:i].iloc[-1]\n",
    "            pred_last_value.extend(last_value for _ in range(window))\n",
    "\n",
    "        return pred_last_value[:horizon]\n",
    "    \n",
    "    if method == 'SARIMAX':\n",
    "        # Get the predictions from the SARIMAX model\n",
    "            \n",
    "        return pred_SARIMAX[:horizon]"
   ]
  },
  {
   "cell_type": "code",
   "execution_count": null,
   "id": "c166d3f9",
   "metadata": {},
   "outputs": [],
   "source": [
    "pred_df = df[-48:]\n",
    "pred_df = pred_df.drop(['Barley'], axis=1)\n",
    "\n",
    "TRAIN_LEN = len(target_train)\n",
    "HORIZON = len(target_test)\n",
    "WINDOW = 1\n",
    "\n",
    "pred_mean = rolling_predictions(target, exog, TRAIN_LEN, HORIZON, WINDOW, 'mean')\n",
    "pred_last = rolling_predictions(target, exog, TRAIN_LEN, HORIZON, WINDOW, 'last')\n",
    "pred_SARIMAX = rolling_predictions(target, exog, TRAIN_LEN, HORIZON, WINDOW, 'SARIMAX')\n",
    "\n",
    "pred_df['pred_mean'] = pred_mean\n",
    "pred_df['pred_last'] = pred_last\n",
    "pred_df['pred_SARIMAX'] = pred_SARIMAX\n",
    "\n",
    "pred_df.head()"
   ]
  },
  {
   "cell_type": "code",
   "execution_count": null,
   "id": "a8fc8aae",
   "metadata": {},
   "outputs": [],
   "source": [
    "fig, ax = plt.subplots()\n",
    "\n",
    "ax.plot(df['Cattle'])\n",
    "ax.plot(pred_df['Cattle'], 'b-', label='Actual')\n",
    "ax.plot(pred_df['pred_mean'], 'r-.', label='Mean')\n",
    "ax.plot(pred_df['pred_last'], 'g:', label='Last')\n",
    "ax.plot(pred_df['pred_SARIMAX'], 'k--', label='SARIMAX')\n",
    "ax.legend(loc=2)\n",
    "ax.set_xlabel('Date')\n",
    "ax.set_ylabel('$ /hundredweight')\n",
    "ax.axvspan(406, 453, color='#808080', alpha=0.2)\n",
    "ax.set_xlim(300, 453)\n",
    "\n",
    "plt.xticks(np.arange(300, 453, 24), np.arange(2010, 2023, 2))\n",
    "\n",
    "fig.autofmt_xdate()\n",
    "plt.tight_layout()"
   ]
  },
  {
   "cell_type": "markdown",
   "id": "04096329",
   "metadata": {},
   "source": [
    "### Evaluation"
   ]
  },
  {
   "cell_type": "code",
   "execution_count": null,
   "id": "6614b372",
   "metadata": {},
   "outputs": [],
   "source": [
    "def mape(y_true, y_pred):\n",
    "    return np.mean(np.abs((y_true - y_pred) / y_true)) * 100"
   ]
  },
  {
   "cell_type": "code",
   "execution_count": null,
   "id": "10e38a7b",
   "metadata": {},
   "outputs": [],
   "source": [
    "mape_mean = mape(pred_df['Cattle'], pred_df['pred_mean'])\n",
    "mape_last = mape(pred_df['Cattle'], pred_df['pred_last'])\n",
    "mape_SARIMAX = mape(pred_df['Cattle'], pred_df['pred_SARIMAX'])"
   ]
  },
  {
   "cell_type": "code",
   "execution_count": null,
   "id": "4361e2e3",
   "metadata": {},
   "outputs": [],
   "source": [
    "fig, ax = plt.subplots()\n",
    "\n",
    "x = ['mean', 'last', 'SARIMAX']\n",
    "y = [mape_mean, mape_last, mape_SARIMAX]\n",
    "\n",
    "ax.bar(x, y, width=0.4)\n",
    "ax.set_xlabel('Methods')\n",
    "ax.set_ylabel('MAPE (%)')\n",
    "ax.set_ylim(0, 35)\n",
    "\n",
    "for index, value in enumerate(y):\n",
    "    ax.text(x=index, y=value+0.5, s=str(round(value, 2)), ha='center')\n",
    "    \n",
    "plt.tight_layout()"
   ]
  },
  {
   "cell_type": "code",
   "execution_count": null,
   "id": "8fc59d91",
   "metadata": {},
   "outputs": [],
   "source": []
  }
 ],
 "metadata": {
  "kernelspec": {
   "display_name": "Python 3",
   "language": "python",
   "name": "python3"
  },
  "language_info": {
   "codemirror_mode": {
    "name": "ipython",
    "version": 3
   },
   "file_extension": ".py",
   "mimetype": "text/x-python",
   "name": "python",
   "nbconvert_exporter": "python",
   "pygments_lexer": "ipython3",
   "version": "3.7.13"
  }
 },
 "nbformat": 4,
 "nbformat_minor": 5
}

{
 "cells": [
  {
   "cell_type": "markdown",
   "id": "d0a9c720",
   "metadata": {},
   "source": [
    "# The moving average model: MA(q)"
   ]
  },
  {
   "cell_type": "code",
   "execution_count": null,
   "id": "bf254755",
   "metadata": {},
   "outputs": [],
   "source": [
    "from statsmodels.tsa.statespace.sarimax import SARIMAX\n",
    "from statsmodels.tsa.arima_process import ArmaProcess\n",
    "from statsmodels.graphics.tsaplots import plot_acf\n",
    "from statsmodels.tsa.stattools import adfuller\n",
    "import matplotlib.pyplot as plt\n",
    "import numpy as np\n",
    "import pandas as pd\n",
    "\n",
    "import warnings\n",
    "warnings.filterwarnings('ignore')\n",
    "\n",
    "%matplotlib inline"
   ]
  },
  {
   "cell_type": "code",
   "execution_count": null,
   "id": "4f6538b0",
   "metadata": {},
   "outputs": [],
   "source": [
    "plt.rcParams[\"figure.figsize\"] = (9,6)"
   ]
  },
  {
   "cell_type": "markdown",
   "id": "0b299771",
   "metadata": {},
   "source": [
    "## Simulate a MA(1) process "
   ]
  },
  {
   "cell_type": "code",
   "execution_count": null,
   "id": "25e0ee73",
   "metadata": {},
   "outputs": [],
   "source": []
  },
  {
   "cell_type": "code",
   "execution_count": null,
   "id": "668f921e",
   "metadata": {},
   "outputs": [],
   "source": [
    "fig, ax = plt.subplots()\n",
    "\n",
    "ax.plot(ma1_process)\n",
    "ax.set_xlabel('Timesteps')\n",
    "ax.set_ylabel('Value')\n",
    "\n",
    "plt.title('Simulated MA(1) process')\n",
    "\n",
    "plt.tight_layout()"
   ]
  },
  {
   "cell_type": "code",
   "execution_count": null,
   "id": "d10fa515",
   "metadata": {},
   "outputs": [],
   "source": []
  },
  {
   "cell_type": "code",
   "execution_count": null,
   "id": "71d783dd",
   "metadata": {},
   "outputs": [],
   "source": [
    "plot_acf(ma1_process, lags=20);\n",
    "\n",
    "plt.ylim(-0.5, 1.5)\n",
    "plt.tight_layout()"
   ]
  },
  {
   "cell_type": "markdown",
   "id": "1675ae65",
   "metadata": {},
   "source": [
    "## Forecasting with the MA(q) model "
   ]
  },
  {
   "cell_type": "code",
   "execution_count": null,
   "id": "dc9f120c",
   "metadata": {},
   "outputs": [],
   "source": []
  },
  {
   "cell_type": "code",
   "execution_count": null,
   "id": "b3a9cc5d",
   "metadata": {},
   "outputs": [],
   "source": [
    "fig, ax = plt.subplots()\n",
    "\n",
    "ax.plot(df['value'])\n",
    "ax.set_xlabel('Time steps')\n",
    "ax.set_ylabel('Value')\n",
    "\n",
    "plt.tight_layout()"
   ]
  },
  {
   "cell_type": "markdown",
   "id": "31838ae0",
   "metadata": {},
   "source": [
    "### Test for stationarity "
   ]
  },
  {
   "cell_type": "code",
   "execution_count": null,
   "id": "9634de64",
   "metadata": {},
   "outputs": [],
   "source": []
  },
  {
   "cell_type": "code",
   "execution_count": null,
   "id": "30826e21",
   "metadata": {},
   "outputs": [],
   "source": []
  },
  {
   "cell_type": "code",
   "execution_count": null,
   "id": "b92a82c4",
   "metadata": {},
   "outputs": [],
   "source": []
  },
  {
   "cell_type": "markdown",
   "id": "ede68536",
   "metadata": {},
   "source": [
    "### Plot ACF "
   ]
  },
  {
   "cell_type": "code",
   "execution_count": null,
   "id": "daaac3ef",
   "metadata": {},
   "outputs": [],
   "source": [
    "plot_acf(series_diff, lags=30);\n",
    "\n",
    "plt.ylim(-0.5, 1.5)\n",
    "plt.tight_layout()"
   ]
  },
  {
   "cell_type": "code",
   "execution_count": null,
   "id": "9e83498e",
   "metadata": {},
   "outputs": [],
   "source": []
  },
  {
   "cell_type": "code",
   "execution_count": null,
   "id": "30d558bf",
   "metadata": {},
   "outputs": [],
   "source": []
  },
  {
   "cell_type": "code",
   "execution_count": null,
   "id": "761998b7",
   "metadata": {},
   "outputs": [],
   "source": [
    "fig, (ax1, ax2) = plt.subplots(nrows=2, ncols=1, sharex=True)\n",
    "\n",
    "ax1.plot(df['value'])\n",
    "ax1.set_xlabel('Time steps')\n",
    "ax1.set_ylabel('Value')\n",
    "ax1.axvspan(901, 1000, color='#808080', alpha=0.2)\n",
    "\n",
    "ax2.plot(df_diff['value_diff'])\n",
    "ax2.set_xlabel('Time steps')\n",
    "ax2.set_ylabel('Value')\n",
    "ax2.axvspan(899, 998, color='#808080', alpha=0.2)\n",
    "\n",
    "plt.tight_layout()"
   ]
  },
  {
   "cell_type": "code",
   "execution_count": null,
   "id": "38144701",
   "metadata": {},
   "outputs": [],
   "source": []
  },
  {
   "cell_type": "code",
   "execution_count": null,
   "id": "96599fe2",
   "metadata": {},
   "outputs": [],
   "source": []
  },
  {
   "cell_type": "code",
   "execution_count": null,
   "id": "51204454",
   "metadata": {},
   "outputs": [],
   "source": [
    "fig, axes = plt.subplots(nrows=2, ncols=2, figsize=(12,9))\n",
    "\n",
    "for i, ax in enumerate(axes.flatten()):\n",
    "    \n",
    "    ax.plot(df['value'])\n",
    "    ax.plot(pred_df['value'], 'b-', label='actual')\n",
    "    ax.plot(pred_df[f'pred_mean_{windows[i]}'], 'g:', label='mean')\n",
    "    ax.plot(pred_df[f'pred_last_{windows[i]}'], 'r-.', label='last')\n",
    "    ax.plot(pred_df[f'pred_MA_{windows[i]}'], 'k--', label='MA(3)')\n",
    "    \n",
    "    ax.legend(loc=2)\n",
    "    ax.set_xlabel('Time steps')\n",
    "    ax.set_ylabel('Value')\n",
    "    ax.axvspan(901, 1000, color='#808080', alpha=0.2)\n",
    "    ax.set_xlim(730, 1000)\n",
    "    ax.set_title(f'Horizon = {windows[i]}')\n",
    "    \n",
    "plt.tight_layout()"
   ]
  },
  {
   "cell_type": "code",
   "execution_count": null,
   "id": "1da503d0",
   "metadata": {},
   "outputs": [],
   "source": [
    "from sklearn.metrics import mean_absolute_error\n",
    "\n",
    "mae_mean_1 = mean_absolute_error(pred_df['value'], pred_df['pred_mean_1'])\n",
    "mae_last_1 = mean_absolute_error(pred_df['value'], pred_df['pred_last_1'])\n",
    "mae_MA_1 = mean_absolute_error(pred_df['value'], pred_df['pred_MA_1'])\n",
    "\n",
    "mae_mean_2 = mean_absolute_error(pred_df['value'], pred_df['pred_mean_2'])\n",
    "mae_last_2 = mean_absolute_error(pred_df['value'], pred_df['pred_last_2'])\n",
    "mae_MA_2 = mean_absolute_error(pred_df['value'], pred_df['pred_MA_2'])\n",
    "\n",
    "mae_mean_5 = mean_absolute_error(pred_df['value'], pred_df['pred_mean_5'])\n",
    "mae_last_5 = mean_absolute_error(pred_df['value'], pred_df['pred_last_5'])\n",
    "mae_MA_5 = mean_absolute_error(pred_df['value'], pred_df['pred_MA_5'])\n",
    "\n",
    "mae_mean_10 = mean_absolute_error(pred_df['value'], pred_df['pred_mean_10'])\n",
    "mae_last_10 = mean_absolute_error(pred_df['value'], pred_df['pred_last_10'])\n",
    "mae_MA_10 = mean_absolute_error(pred_df['value'], pred_df['pred_MA_10'])"
   ]
  },
  {
   "cell_type": "code",
   "execution_count": null,
   "id": "8730870a",
   "metadata": {},
   "outputs": [],
   "source": [
    "maes_mean = [mae_mean_1, mae_mean_2, mae_mean_5, mae_mean_10]\n",
    "maes_last = [mae_last_1, mae_last_2, mae_last_5, mae_last_10]\n",
    "maes_MA = [mae_MA_1, mae_MA_2, mae_MA_5, mae_MA_10]\n",
    "\n",
    "fig, axes = plt.subplots(nrows=2, ncols=2, figsize=(12,9))\n",
    "\n",
    "x = ['mean', 'last', 'MA(3)']\n",
    "width = 0.3\n",
    "\n",
    "for i, ax in enumerate(axes.flatten()):\n",
    "    \n",
    "    y = [maes_mean[i], maes_last[i], maes_MA[i]]\n",
    "    ax.bar(x, y, width)\n",
    "    ax.set_xlabel('Methods')\n",
    "    ax.set_ylabel('MAE')\n",
    "    ax.set_ylim(0, 20)\n",
    "    ax.set_title(f'Horizon = {windows[i]}')    \n",
    "    \n",
    "    for index, value in enumerate(y):\n",
    "        ax.text(x=index, y=value+1, s=str(round(value, 2)), ha='center')\n",
    "\n",
    "plt.tight_layout()"
   ]
  },
  {
   "cell_type": "code",
   "execution_count": null,
   "id": "f651657b",
   "metadata": {},
   "outputs": [],
   "source": []
  }
 ],
 "metadata": {
  "kernelspec": {
   "display_name": "Python 3",
   "language": "python",
   "name": "python3"
  },
  "language_info": {
   "codemirror_mode": {
    "name": "ipython",
    "version": 3
   },
   "file_extension": ".py",
   "mimetype": "text/x-python",
   "name": "python",
   "nbconvert_exporter": "python",
   "pygments_lexer": "ipython3",
   "version": "3.7.13"
  }
 },
 "nbformat": 4,
 "nbformat_minor": 5
}
